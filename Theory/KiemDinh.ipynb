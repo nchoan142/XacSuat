{
 "cells": [
  {
   "cell_type": "code",
   "execution_count": 1,
   "metadata": {},
   "outputs": [],
   "source": [
    "import scipy.stats as ss\n",
    "import pandas as pd"
   ]
  },
  {
   "cell_type": "code",
   "execution_count": 2,
   "metadata": {},
   "outputs": [],
   "source": [
    "table = pd.read_csv(\"E:/XacSuatThongKe/DuLieuThucHanh/Du_lieu/caschool.csv\")\n",
    "# table['testscr'].shape[0]"
   ]
  },
  {
   "cell_type": "markdown",
   "metadata": {},
   "source": [
    "Kiểm định trung bình 1 tổng thể"
   ]
  },
  {
   "cell_type": "code",
   "execution_count": 3,
   "metadata": {},
   "outputs": [],
   "source": [
    "# Hàm ttest_1samp(a, popmean=, alternative=\"two-sided\")\n",
    "# a: Mảng dữ liệu mẫu\n",
    "# popmean: Trung bình giả thuyết H0\n",
    "# alternative: Giả thuyết đối (H1)\n",
    "# two-sided: kiểm định 2 bên\n",
    "# less: kiểm định bên trái\n",
    "# greater: kiểm định bên phải\n",
    "# Kết quả sẽ trả về giá trị thóng kê t và p-value"
   ]
  },
  {
   "cell_type": "markdown",
   "metadata": {},
   "source": [
    "Chúng ta sẽ kiểm tra xem điểm trung bình của các trường ở California (µ) có khoảng 655 điểm không tại mức ý nghĩa α = 5%. Để thực hiện kiểm định này, ta đặt ra cặp giả thuyết sau.\n",
    "\n",
    "µ: Điểm trung bình của các trường ở Califonia\n",
    "\n",
    "H0: µ = 655\n",
    "\n",
    "H1: µ != 655"
   ]
  },
  {
   "cell_type": "code",
   "execution_count": 17,
   "metadata": {},
   "outputs": [
    {
     "data": {
      "text/plain": [
       "TtestResult(statistic=np.float64(-0.9072222598771866), pvalue=np.float64(0.36481072604931186), df=np.int64(419))"
      ]
     },
     "execution_count": 17,
     "metadata": {},
     "output_type": "execute_result"
    }
   ],
   "source": [
    "ss.ttest_1samp(table.testscr, popmean=655, alternative=\"two-sided\")"
   ]
  },
  {
   "cell_type": "code",
   "execution_count": 5,
   "metadata": {},
   "outputs": [
    {
     "data": {
      "text/plain": [
       "np.float64(1.9656418415415788)"
      ]
     },
     "execution_count": 5,
     "metadata": {},
     "output_type": "execute_result"
    }
   ],
   "source": [
    "# Tính giá trị tới hạn t(n-1, alpha/2), n = 420, alpha = 0.05\n",
    "ss.t.ppf(0.975, 419) # ss.tppf(1-(alpha/2), n-1)"
   ]
  },
  {
   "cell_type": "markdown",
   "metadata": {},
   "source": [
    "Kiểm định trung bình 2 tổng thể"
   ]
  },
  {
   "cell_type": "code",
   "execution_count": 6,
   "metadata": {},
   "outputs": [],
   "source": [
    "# Kiểm định trung bình hai tổng thể mẫu độc lập\n",
    "# Hàm ttest_ind(a, b, equal_var = True, alternative = two-sided\")\n",
    "# a, b: Mảng dữ liệu mẫu thứ 1 và thứ 2\n",
    "# equal_var = True: 2 phương sai bằng nhau\n",
    "# equal_var = False: 2 phương sai không bằng nhau\n",
    "# alternative: Giả thuyết đối (H1)"
   ]
  },
  {
   "cell_type": "markdown",
   "metadata": {},
   "source": [
    "Tại mức ý nghĩa α = 0.05, hãy kiểm định các cặp giả thuyết sau."
   ]
  },
  {
   "cell_type": "markdown",
   "metadata": {},
   "source": [
    "a. Có sự khác biệt về điểm trung bình học sinh KK-08 và KK-06.\n",
    "\n",
    "mu1: Điểm trung bình của học sinh KK-08\n",
    "\n",
    "mu2: Điểm trung bình của học kinh KK-06\n",
    "\n",
    "H0: mu1 = mu2\n",
    "\n",
    "H1: mu1 != mu2"
   ]
  },
  {
   "cell_type": "code",
   "execution_count": 7,
   "metadata": {},
   "outputs": [
    {
     "data": {
      "text/plain": [
       "TtestResult(statistic=np.float64(-3.207808105580631), pvalue=np.float64(0.001928670176477383), df=np.float64(79.469823051528))"
      ]
     },
     "execution_count": 7,
     "metadata": {},
     "output_type": "execute_result"
    }
   ],
   "source": [
    "table_diem1 = table.query('gr_span == \"KK-08\"')\n",
    "table_diem1['testscr'].shape[0] # 359\n",
    "table_diem2 = table.query('gr_span == \"KK-06\"')\n",
    "table_diem2['testscr'].shape[0] # 61\n",
    "\n",
    "ss.ttest_ind(table_diem1['testscr'], table_diem2['testscr'], equal_var=False)"
   ]
  },
  {
   "cell_type": "markdown",
   "metadata": {},
   "source": [
    "p-value < alpha\n",
    "\n",
    "Tại mức ý nghĩa 5%, có bằng chứng chứng minh có sự khác biệt giữa điểm trung bình của KK-08 và KK-06"
   ]
  },
  {
   "cell_type": "code",
   "execution_count": 8,
   "metadata": {},
   "outputs": [
    {
     "data": {
      "text/plain": [
       "np.float64(1.9656554636525445)"
      ]
     },
     "execution_count": 8,
     "metadata": {},
     "output_type": "execute_result"
    }
   ],
   "source": [
    "ss.t.ppf(0.975, 418)"
   ]
  },
  {
   "cell_type": "code",
   "execution_count": 9,
   "metadata": {},
   "outputs": [],
   "source": [
    "# Kiểm định trung bình hai tổng thể mẫu theo đôi\n",
    "# Hàm ttest_rel(a, b, alternative = two-sided\")\n",
    "# a, b: Mảng dữ liệu mẫu thứ 1 và thứ 2\n",
    "# equal_var = True: 2 phương sai bằng nhau\n",
    "# equal_var = False: 2 phương sai không bằng nhau"
   ]
  },
  {
   "cell_type": "markdown",
   "metadata": {},
   "source": [
    "b. Không có sự khác biệt về điểm đọc trung bình read_scr và điểm toán trung bình math_scr của học sinh ở California.\n",
    "\n",
    "mu1: Điểm trung bình đọc\n",
    "\n",
    "mu2: Điểm trung bình toán\n",
    "\n",
    "H0: mu1 = mu2\n",
    "\n",
    "H1: mu1 != mu2"
   ]
  },
  {
   "cell_type": "code",
   "execution_count": 16,
   "metadata": {},
   "outputs": [
    {
     "data": {
      "text/plain": [
       "TtestResult(statistic=np.float64(4.30756124503504), pvalue=np.float64(2.0584876102022423e-05), df=np.int64(419))"
      ]
     },
     "execution_count": 16,
     "metadata": {},
     "output_type": "execute_result"
    }
   ],
   "source": [
    "ss.ttest_rel(table['read_scr'], table['math_scr'], alternative=\"two-sided\")"
   ]
  },
  {
   "cell_type": "markdown",
   "metadata": {},
   "source": [
    "p-value > alpha\n",
    "\n",
    "Tại mức ý nghĩa 5%, không có đủ bằng chứng chứng minh có sự khác biện giữa điểm toán trung bình và điểm đọc trung bình"
   ]
  },
  {
   "cell_type": "markdown",
   "metadata": {},
   "source": [
    "VD2:\n",
    "\n",
    "Tại mức ý nghĩa α = 0.05, hãy kiểm định giả thuyết điểm trung  bình của học sinh học theo lớp tiểu học kiểu K-8 cao hơn so với điểm trung bình của học sinh học lớp tiểu học kiểu K-6"
   ]
  },
  {
   "cell_type": "markdown",
   "metadata": {},
   "source": [
    "mu1: Điểm trung bình của lớp K-8\n",
    "\n",
    "mu2: Điểm trung bình của lớp K-6\n",
    "\n",
    "H0: mu1 = mu2\n",
    "\n",
    "H1: mu1 > mu2"
   ]
  },
  {
   "cell_type": "code",
   "execution_count": 11,
   "metadata": {},
   "outputs": [
    {
     "data": {
      "text/plain": [
       "TtestResult(statistic=np.float64(-3.207808105580631), pvalue=np.float64(0.9990356649117613), df=np.float64(79.469823051528))"
      ]
     },
     "execution_count": 11,
     "metadata": {},
     "output_type": "execute_result"
    }
   ],
   "source": [
    "table_diem1 = table.query('gr_span == \"KK-08\"')['testscr'] # 359\n",
    "table_diem2 = table.query('gr_span == \"KK-06\"')['testscr']# 61\n",
    "\n",
    "ss.ttest_ind(table_diem1, table_diem2, alternative=\"greater\", equal_var=False)"
   ]
  },
  {
   "cell_type": "markdown",
   "metadata": {},
   "source": [
    "p-value > alpha\n",
    "\n",
    "Không có đủ bằng chứng chứng minh điểm trung bình lớp k-8 > k-6"
   ]
  },
  {
   "cell_type": "markdown",
   "metadata": {},
   "source": [
    "Kiểm định tỉ lệ một tổng thể"
   ]
  },
  {
   "cell_type": "code",
   "execution_count": 12,
   "metadata": {},
   "outputs": [],
   "source": [
    "# Hàm binom_test(x, n=None, p=0.5, alternative=\"two-sided\")\n",
    "# x: Số lần \"Thành công\"\n",
    "# n: Số lần thử nghiệm\n",
    "# p: Tỷ lệ thành công theo giả thuyết không (H0), mặc định p = 0.5"
   ]
  },
  {
   "cell_type": "markdown",
   "metadata": {},
   "source": [
    "Kiểm định tỉ lệ hai tổng thể"
   ]
  },
  {
   "cell_type": "code",
   "execution_count": 13,
   "metadata": {},
   "outputs": [],
   "source": [
    "# Hàm proportions_ztest(count, nobs, value=None, alternative=)\n",
    "# counts: Số lần \"Thành công\" trong nobs lần thử nghiệm\n",
    "# nobs: Số lần thử nghiệm\n",
    "# value: Giá trị của tỷ lệ trong giả thuyết không khi so sánh với 1 mẫu\n",
    "# Giả thuyết không: p[0] - p[1] = value\n",
    "# value = 0: p[0] = p[1]\n",
    "# alternative:\n",
    "# + two-sided: Kiểm định 2 bên\n",
    "# + smaller: bên trái\n",
    "# + larger: bên phải"
   ]
  }
 ],
 "metadata": {
  "kernelspec": {
   "display_name": "Python 3",
   "language": "python",
   "name": "python3"
  },
  "language_info": {
   "codemirror_mode": {
    "name": "ipython",
    "version": 3
   },
   "file_extension": ".py",
   "mimetype": "text/x-python",
   "name": "python",
   "nbconvert_exporter": "python",
   "pygments_lexer": "ipython3",
   "version": "3.12.4"
  }
 },
 "nbformat": 4,
 "nbformat_minor": 2
}
