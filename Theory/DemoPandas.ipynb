{
 "cells": [
  {
   "cell_type": "code",
   "execution_count": 1,
   "metadata": {},
   "outputs": [],
   "source": [
    "import pandas as pd"
   ]
  },
  {
   "cell_type": "markdown",
   "metadata": {},
   "source": [
    "Demo Pandas Series\n",
    "\n",
    "Pandas Series: \n",
    "- Là 1 Data Type\n",
    "- Là mảng 1 chiều (1 cột trong bảng dữ liệu)\n"
   ]
  },
  {
   "cell_type": "code",
   "execution_count": null,
   "metadata": {},
   "outputs": [],
   "source": [
    "# Series giống 1 cột trong bảng dữ liệu\n",
    "data = [0, 12, 13, 100, 3.4, 3.4, 3.4, 3.4]\n",
    "table = pd.Series(data)\n",
    "print(table.value_counts)\n",
    "\n",
    "# Thay đổi nhãn của Series\n",
    "# Khi đã thay đổi nhãn thì phải truy cập phần tử bằng nhãn mới\n",
    "df1 = pd.Series(data, index=[\"a\", \"b\", \"b\", \"b\", \"b\", \"b\", \"b\", \"b\"])\n",
    "print(df1[0])\n",
    "print(df1[\"b\"])\n",
    "\n",
    "# Lấy 3 phần tử đầu tiên nhưng không làm thay đổi kích thước của \"table\"\n",
    "table[:3]"
   ]
  },
  {
   "cell_type": "markdown",
   "metadata": {},
   "source": [
    "Demo Pandas DataFame\n",
    "\n",
    "Pandas DataFame:\n",
    "- Là 1 Data Type\n",
    "- Là mảng 2 chiều"
   ]
  },
  {
   "cell_type": "code",
   "execution_count": null,
   "metadata": {},
   "outputs": [],
   "source": [
    "data = {\n",
    "    'score' : [5, 8, 5, 10, 4],\n",
    "    'name': ['Hoan', 'Son', 'Chuot', 'Meo', 'Cho']\n",
    "}\n",
    "\n",
    "table = pd.DataFrame(data)\n",
    "print(table)"
   ]
  },
  {
   "cell_type": "code",
   "execution_count": null,
   "metadata": {},
   "outputs": [],
   "source": [
    "# Dattableame.loc[row, column]\n",
    "table.loc[0] # Lấy dữ liệu dòng dầu tiên\n",
    "table.loc[table['name'] == \"Chuot\"] # Lấy tất cả dữ liệu của cột name có giá trị là Chuot\n",
    "# Toán tử \":\" dùng để lấy tất cả dữ liệu trong bảng\n",
    "# column có thể có hoặc không\n",
    "# column không nhận giá trị là chỉ số\n",
    "# Muốn lấy giá trị của cột nào phải chỉ rõ tên của cột đó. VD: cột \"name\"\n",
    "table.loc[0, \"name\"] # Lấy dữ liệu dòng đầu tiên, cột \"name\"\n",
    "table.loc[0, \"name\"] = \"MyLove\" # Thay đổi dòng đầu tiên, cột \"name\" thành MyLove\n",
    "table.loc[:, \"name\"] # Lấy dữ liệu cột \"name\""
   ]
  },
  {
   "cell_type": "code",
   "execution_count": null,
   "metadata": {},
   "outputs": [],
   "source": [
    "# DataFrame.iloc[row, column]\n",
    "# row, column chỉ nhận giá trị là vị trí row, column trong bảng\n",
    "table.iloc[1, 0] # Lấy dữ liệu ở vị trí row = 1, column = 0\n",
    "table.iloc[1:3, 0:3] # Lấy dữ liệu ở vị trí row = {1, 2}, column = {0, 1, 2}\n",
    "# Lấy dữ liệu của 1 cột\n",
    "data_column = table['name'] \n",
    "# Lấy dữ liệu của 2 cột\n",
    "# Có thể lấy dữ liệu của nhiều cột, nhưng phải chỉ rõ cột\n",
    "data_2_columns = table[['name', 'age']] \n",
    "print(data_column)"
   ]
  },
  {
   "cell_type": "markdown",
   "metadata": {},
   "source": [
    "Đọc file .csv\n",
    "\n",
    "Đổi tất cả dấu \\ trong đường dẫn thành dấu / (nếu có)\n",
    "\n",
    "vd: E:\\XacSuatThongKe\\DuLieuThucHanh\\Du_lieu\\BMW.csv -> E:/XacSuatThongKe/DuLieuThucHanh/Du_lieu/BMW.csv"
   ]
  },
  {
   "cell_type": "code",
   "execution_count": null,
   "metadata": {},
   "outputs": [],
   "source": [
    "# Đọc dữ liệu từ file .csv\n",
    "\n",
    "# Defaut max_rows = 60: Hiển thị đối đa 60 dòng\n",
    "pd.options.display.max_rows = 100 # Thay đổi max_rows = 100\n",
    "table = pd.read_csv('E:/XacSuatThongKe/DuLieuThucHanh/Du_lieu/BMW.csv')\n",
    "print(table)\n",
    "\n",
    "# Đọc dữ liệu từ file .json\n",
    "# table = pd.read_csv('E:/XacSuatThongKe/DuLieuThucHanh/Du_lieu/BMW.json')\n",
    "\n",
    "# Xem Data type của table\n",
    "type(table)"
   ]
  },
  {
   "cell_type": "code",
   "execution_count": null,
   "metadata": {},
   "outputs": [],
   "source": [
    "# Lấy dữ liệu 5 dòng đầu tiên của bảng\n",
    "# Giá trị defaut = 5\n",
    "table.head()\n",
    "\n",
    "table.head(10) # Lấy dữ liệu 10 dòng đầu tiên của bảng\n",
    "\n",
    "table.tail() # Tương tụ table.head()\n",
    "\n",
    "table.shape # Trả về số lượng dòng - số lượng Quan sát, cột - số lượng Biến trong bảng\n",
    "table.shape[0] # Trả về số lượng dòng - số lượng Quan sát trong bảng\n",
    "table.shape[1] # Trả về số lượng cột - số lượng Biến trong bảng\n",
    "table.columns # Trả về tên các cột - các biến trong bảng"
   ]
  },
  {
   "cell_type": "code",
   "execution_count": null,
   "metadata": {},
   "outputs": [],
   "source": [
    "# Thêm cột vào bảng dữ liệu\n",
    "\n",
    "# Tạo mảng saler\n",
    "# Số lượng phần tử của saler phải bằng số lượng dòng trong bảng\n",
    "# Ví dụ trong bảng có 15 dòng thì số phần tử của saler phải là 15\n",
    "saler = [\"Hoan\", \"Hoan\", \"Hoan\", \"Hoan\", \"Hoan\", \"Hoan\", \"Hoan\", \"Hoan\", \"Hoan\", \"Hoan\", \"Hoan\", \"Hoan\", \"Hoan\", \"Hoan\", \"Hoan\"]\n",
    "\n",
    "# Tạo cột mới có tên NguoiBan\n",
    "# Gán giá trị cho NguoiBan = saler\n",
    "table['NguoiBan'] = saler\n",
    "print(table)\n",
    "\n",
    "# Lấy dữ liệu ở cột người bán\n",
    "print(table['NguoiBan'])"
   ]
  },
  {
   "cell_type": "code",
   "execution_count": null,
   "metadata": {},
   "outputs": [],
   "source": [
    "# Chèn cột vào bảng\n",
    "# insert(vị trí muốn chèn, \"tên cột\", giá trị cho từng dòng (là 1 Mảng))\n",
    "# Mảng phải có số lượng phần tử bằng số lượng dòng của bảng\n",
    "buyer = [\"Hoan\", \"Hoan\", \"Hoan\", \"Hoan\", \"Hoan\", \n",
    "         \"Hoan\", \"Hoan\", \"Hoan\", \"Hoan\", \"Hoan\", \"Hoan\", \"Hoan\", \"Hoan\", \"Hoan\", \"Hoan\"]\n",
    "table.insert(0, \"NguoiMua\", buyer)\n",
    "print(table)\n",
    "\n",
    "# Phương thức DataFrame.assign(): Tạo 1 bảng mới\n",
    "df1 = table.assign(NguoiMua1=buyer) # tạo bảng df1 có thêm cột NguoiMua1\n",
    "print(df1)"
   ]
  },
  {
   "cell_type": "code",
   "execution_count": null,
   "metadata": {},
   "outputs": [],
   "source": [
    "table = pd.read_csv('E:/XacSuatThongKe/DuLieuThucHanh/Du_lieu/BMW.csv')\n",
    "# Thêm 1 dòng vào bảng\n",
    "table.loc[table.shape[0]] = [500, 52]\n",
    "table.loc[table.shape[0]] = [500, 52]\n",
    "table.loc[table.shape[0]] = [500, 52]\n",
    "print(table)"
   ]
  },
  {
   "cell_type": "code",
   "execution_count": null,
   "metadata": {},
   "outputs": [],
   "source": [
    "# Lọc dữ liệu\n",
    "# DataFrame.query(expr, inplace) trả về 1 bảng dữ liệu\n",
    "# expr: Tham số bắt buộc bắt buộc\n",
    "# inplace: Có thể có hoặc không \n",
    "# inplace = False/ True: Dữ liệu gốc được giữ nguyên/ thay đổi\n",
    "# result = table.query(\"Gia >= 30\")\n",
    "\n",
    "# Với dữ liệu là chuỗi\n",
    "result = table.query('GioiTinh == \"Nu\"')\n",
    "print(result)\n",
    "\n",
    "# print(table.query('Gia == 30'))"
   ]
  },
  {
   "cell_type": "code",
   "execution_count": null,
   "metadata": {},
   "outputs": [],
   "source": [
    "# Lấy các giá trị phân biệt bằng hàm unique()\n",
    "table.SoKm.unique() # Lấy các giá trị phân biệt của cột SoKm\n",
    "\n",
    "# Đếm số lượng theo từng mức giá\n",
    "table.groupby(['Gia']).size()"
   ]
  },
  {
   "cell_type": "code",
   "execution_count": null,
   "metadata": {},
   "outputs": [],
   "source": [
    "# Xóa dữ liệu trống bằng hàm dropna()\n",
    "# Có thể thêm tham số inplace nếu muốn thay đổi dữ liệu trong bảng gốc(table)\n",
    "df1 = table.dropna()\n",
    "\n",
    "# Thay đổi giá trị trống bằng hàm fillna()\n",
    "# Có thể thêm tham số inplace nếu muốn thay đổi dữ liệu trong bảng gốc(table) \n",
    "df1 = table.fillna(305) # thay đổi giá trị trống trong table thành 305\n",
    "\n",
    "# Xóa phần tử bằng hàm drop()\n",
    "# Xóa phần tử ở vị trí đầu tiên, nếu có tham số inplace = True\n",
    "# Thì sẽ xóa phần tử trong bảng chính\n",
    "table.drop(0, inplace=True) \n",
    "for i in (table.index):\n",
    "    if table.loc[i, \"Gia\"] == 500:\n",
    "        table.drop(i, inplace=True)\n",
    "print(table)"
   ]
  },
  {
   "cell_type": "markdown",
   "metadata": {},
   "source": [
    "Bảng tần số cho dữ liệu ĐỊNH TÍNH"
   ]
  },
  {
   "cell_type": "code",
   "execution_count": 8,
   "metadata": {},
   "outputs": [
    {
     "name": "stdout",
     "output_type": "stream",
     "text": [
      "Score\n",
      "8     4\n",
      "10    4\n",
      "5     3\n",
      "4     3\n",
      "3     3\n",
      "6     3\n",
      "7     2\n",
      "9     2\n",
      "2     1\n",
      "Name: count, dtype: int64\n"
     ]
    }
   ],
   "source": [
    "# Phương thức Seriers.value.counts(normalize, sort, bins, dropna)\n",
    "# Trả về tần số của các quan sát trong bảng\n",
    "# normalize = True: Trả về tần suất, False: Trả về tần số\n",
    "# sort = True: Sắp xếp tần số theo thứ tự tăng dần, False: Giảm dần\n",
    "# bins: chia nhóm (chỉ áp dụng cho dữ liệu định lượng)\n",
    "# dropna = True: Không tính giá trị trống (N/A)\n",
    "\n",
    "table = pd.read_csv('E:/XacSuatThongKe/DuLieuThucHanh/Du_lieu/Cartwheel.csv')\n",
    "# print(table)\n",
    "tan_so = table.Score.value_counts()\n",
    "print(tan_so)"
   ]
  },
  {
   "cell_type": "code",
   "execution_count": null,
   "metadata": {},
   "outputs": [],
   "source": [
    "# Bảng tần số chéo cho 2 hay nhiều biến định tính\n",
    "# Phương thức Pandas.crosstab(index, columns, margins, dropna, normalizer)\n",
    "# index: Các giá trị để nhóm theo dòng\n",
    "# columns: Các giá trị để nhóm theo cột\n",
    "# margin: Kiểu bool, thêm tổng dòng, tổng cột (Giá trị biên)\n",
    "# normalizer = True: Tính tần suất\n",
    "table = pd.read_csv('E:/XacSuatThongKe/DuLieuThucHanh/Du_lieu/Cartwheel.csv')\n",
    "# print(table)\n",
    "ts_cheo = pd.crosstab(table.Gender, table.Complete, normalize=True)\n",
    "print(ts_cheo)"
   ]
  },
  {
   "cell_type": "markdown",
   "metadata": {},
   "source": [
    "Bảng tần số cho dữ liệu ĐỊNH LƯỢNG"
   ]
  },
  {
   "cell_type": "code",
   "execution_count": null,
   "metadata": {},
   "outputs": [],
   "source": [
    "# Hàm Pandas.cut(x, bins, right = True, labels = None, include_lowest = False, ordered = True)\n",
    "# x: Phân tổ theo Quan sát nào. VD: Phân tổ theo Quan sát: Height\n",
    "# bins: Số lượng tổ\n",
    "# labels = None: Các tổ được xây dựng theo dạng (a, b]\n",
    "# right = True: Tổ có dang (a, b], False: Tổ có dạng [a, b)\n",
    "# include_lowest = True: Tổ đầu chứa giá trị nhỏ nhất của các điểm chia (khi right = True)\n",
    "# include_lowest = False: Tổ cuối chứa giá trị lớn nhất của các điểm chia (khi right = False)\n",
    "# ordered = True: Sắp xếp các labels theo thứ tự\n",
    "\n",
    "table = pd.read_csv('E:/XacSuatThongKe/DuLieuThucHanh/Du_lieu/Cartwheel.csv')\n",
    "# table.Height.min() # lấy giá trị min bẳng hàm Pandas.min()\n",
    "# table.Height.max() # lấy giá trị max bẳng hàm Pandas.max()\n",
    "# 6 tổ, h = 3\n",
    "cut_height = pd.cut(table.Height, bins = 6) #61, 64, 67 ,70, 73, 76\n",
    "cut_height_1 = pd.cut(table.Height, bins = [61, 64, 67, 70, 73, 76])\n",
    "cut_height.value_counts()\n"
   ]
  },
  {
   "cell_type": "markdown",
   "metadata": {},
   "source": [
    "Vẽ biểu đồ"
   ]
  },
  {
   "cell_type": "markdown",
   "metadata": {},
   "source": [
    "Dữ liệu định tính"
   ]
  },
  {
   "cell_type": "code",
   "execution_count": null,
   "metadata": {},
   "outputs": [],
   "source": [
    "table = pd.read_csv('E:/XacSuatThongKe/DuLieuThucHanh/Du_lieu/caschool.csv')\n",
    "print(table)"
   ]
  },
  {
   "cell_type": "markdown",
   "metadata": {},
   "source": [
    "Biểu đồ tán xạ (Scatter)"
   ]
  },
  {
   "cell_type": "code",
   "execution_count": null,
   "metadata": {},
   "outputs": [],
   "source": [
    "table.plot(kind=\"scatter\", x=\"read_scr\", y=\"math_scr\", title=\"Bieu do tan xa giua diem Toan va diem Doc\")"
   ]
  },
  {
   "cell_type": "markdown",
   "metadata": {},
   "source": [
    "Biểu đồ phân phối tần số (Histogram)"
   ]
  },
  {
   "cell_type": "code",
   "execution_count": null,
   "metadata": {},
   "outputs": [],
   "source": [
    "# Thuộc tính legend: Chú thích màu trong biểu đồ là của cột nào\n",
    "# table.testscr.plot(kind=\"hist\", title=\"Bieu do phan phoi diem thi\", legend=True)\n",
    "table_read_math = table[['read_scr', 'math_scr']].plot(kind=\"hist\", legend=True)\n",
    "print(table_read_math)"
   ]
  },
  {
   "cell_type": "markdown",
   "metadata": {},
   "source": [
    "Biểu đồ tròn (Pie)"
   ]
  },
  {
   "cell_type": "code",
   "execution_count": null,
   "metadata": {},
   "outputs": [],
   "source": [
    "# Thuộc tính autopct=\"%.2f\": lấy tỉ lệ là % tới 2 chữ số sau dấu phẩy\n",
    "table = pd.read_csv('E:/XacSuatThongKe/DuLieuThucHanh/Du_lieu/Cartwheel.csv')\n",
    "table.Gender.value_counts().plot(kind=\"pie\", legend=True, autopct=\"%.2f\")"
   ]
  },
  {
   "cell_type": "markdown",
   "metadata": {},
   "source": [
    "Biểu đồ thanh (Bar)"
   ]
  },
  {
   "cell_type": "code",
   "execution_count": null,
   "metadata": {},
   "outputs": [],
   "source": [
    "table.Gender.value_counts().plot(kind=\"bar\", legend=True)"
   ]
  },
  {
   "cell_type": "markdown",
   "metadata": {},
   "source": [
    "Dữ liệu định lượng"
   ]
  },
  {
   "cell_type": "markdown",
   "metadata": {},
   "source": [
    "Biểu đồ hộp (Box)"
   ]
  },
  {
   "cell_type": "code",
   "execution_count": null,
   "metadata": {},
   "outputs": [],
   "source": [
    "table = pd.read_csv('E:/XacSuatThongKe/DuLieuThucHanh/Du_lieu/caschool.csv')"
   ]
  },
  {
   "cell_type": "code",
   "execution_count": null,
   "metadata": {},
   "outputs": [],
   "source": [
    "# Tham số vert = False: Vẽ biễu đồ nằm ngang\n",
    "table.testscr.plot(kind=\"\", vert = False)"
   ]
  }
 ],
 "metadata": {
  "kernelspec": {
   "display_name": "Python 3",
   "language": "python",
   "name": "python3"
  },
  "language_info": {
   "codemirror_mode": {
    "name": "ipython",
    "version": 3
   },
   "file_extension": ".py",
   "mimetype": "text/x-python",
   "name": "python",
   "nbconvert_exporter": "python",
   "pygments_lexer": "ipython3",
   "version": "3.12.4"
  }
 },
 "nbformat": 4,
 "nbformat_minor": 2
}
