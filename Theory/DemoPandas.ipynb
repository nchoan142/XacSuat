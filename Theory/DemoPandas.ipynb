{
 "cells": [
  {
   "cell_type": "code",
   "execution_count": 2,
   "metadata": {},
   "outputs": [],
   "source": [
    "import pandas as pd"
   ]
  },
  {
   "cell_type": "markdown",
   "metadata": {},
   "source": [
    "Demo Pandas Series\n",
    "\n",
    "Pandas Series: \n",
    "- Là 1 Data Type\n",
    "- Là mảng 1 chiều (1 cột trong bảng dữ liệu)\n"
   ]
  },
  {
   "cell_type": "code",
   "execution_count": 3,
   "metadata": {},
   "outputs": [
    {
     "name": "stdout",
     "output_type": "stream",
     "text": [
      "<bound method IndexOpsMixin.value_counts of 0      0.0\n",
      "1     12.0\n",
      "2     13.0\n",
      "3    100.0\n",
      "4      3.4\n",
      "5      3.4\n",
      "6      3.4\n",
      "7      3.4\n",
      "dtype: float64>\n",
      "0.0\n",
      "b     12.0\n",
      "b     13.0\n",
      "b    100.0\n",
      "b      3.4\n",
      "b      3.4\n",
      "b      3.4\n",
      "b      3.4\n",
      "dtype: float64\n"
     ]
    },
    {
     "name": "stderr",
     "output_type": "stream",
     "text": [
      "C:\\Users\\Admin\\AppData\\Local\\Temp\\ipykernel_19304\\1354062666.py:9: FutureWarning: Series.__getitem__ treating keys as positions is deprecated. In a future version, integer keys will always be treated as labels (consistent with DataFrame behavior). To access a value by position, use `ser.iloc[pos]`\n",
      "  print(df1[0])\n"
     ]
    },
    {
     "data": {
      "text/plain": [
       "0     0.0\n",
       "1    12.0\n",
       "2    13.0\n",
       "dtype: float64"
      ]
     },
     "execution_count": 3,
     "metadata": {},
     "output_type": "execute_result"
    }
   ],
   "source": [
    "# Series giống 1 cột trong bảng dữ liệu\n",
    "data = [0, 12, 13, 100, 3.4, 3.4, 3.4, 3.4]\n",
    "table = pd.Series(data)\n",
    "print(table.value_counts)\n",
    "\n",
    "# Thay đổi nhãn của Series\n",
    "# Khi đã thay đổi nhãn thì phải truy cập phần tử bằng nhãn mới\n",
    "df1 = pd.Series(data, index=[\"a\", \"b\", \"b\", \"b\", \"b\", \"b\", \"b\", \"b\"])\n",
    "print(df1[0])\n",
    "print(df1[\"b\"])\n",
    "\n",
    "# Lấy 3 phần tử đầu tiên nhưng không làm thay đổi kích thước của \"table\"\n",
    "table[:3]"
   ]
  },
  {
   "cell_type": "markdown",
   "metadata": {},
   "source": [
    "Demo Pandas DataFame\n",
    "\n",
    "Pandas DataFame:\n",
    "- Là 1 Data Type\n",
    "- Là mảng 2 chiều"
   ]
  },
  {
   "cell_type": "code",
   "execution_count": 4,
   "metadata": {},
   "outputs": [
    {
     "name": "stdout",
     "output_type": "stream",
     "text": [
      "   score   name\n",
      "0      5   Hoan\n",
      "1      8    Son\n",
      "2      5  Chuot\n",
      "3     10    Meo\n",
      "4      4    Cho\n"
     ]
    }
   ],
   "source": [
    "data = {\n",
    "    'score' : [5, 8, 5, 10, 4],\n",
    "    'name': ['Hoan', 'Son', 'Chuot', 'Meo', 'Cho']\n",
    "}\n",
    "\n",
    "table = pd.DataFrame(data)\n",
    "print(table)"
   ]
  },
  {
   "cell_type": "code",
   "execution_count": 5,
   "metadata": {},
   "outputs": [
    {
     "data": {
      "text/plain": [
       "0    MyLove\n",
       "1       Son\n",
       "2     Chuot\n",
       "3       Meo\n",
       "4       Cho\n",
       "Name: name, dtype: object"
      ]
     },
     "execution_count": 5,
     "metadata": {},
     "output_type": "execute_result"
    }
   ],
   "source": [
    "# Dattableame.loc[row, column]\n",
    "table.loc[0] # Lấy dữ liệu dòng dầu tiên\n",
    "table.loc[table['name'] == \"Chuot\"] # Lấy tất cả dữ liệu của cột name có giá trị là Chuot\n",
    "# Toán tử \":\" dùng để lấy tất cả dữ liệu trong bảng\n",
    "# column có thể có hoặc không\n",
    "# column không nhận giá trị là chỉ số\n",
    "# Muốn lấy giá trị của cột nào phải chỉ rõ tên của cột đó. VD: cột \"name\"\n",
    "table.loc[0, \"name\"] # Lấy dữ liệu dòng đầu tiên, cột \"name\"\n",
    "table.loc[0, \"name\"] = \"MyLove\" # Thay đổi dòng đầu tiên, cột \"name\" thành MyLove\n",
    "table.loc[:, \"name\"] # Lấy dữ liệu cột \"name\""
   ]
  },
  {
   "cell_type": "code",
   "execution_count": 6,
   "metadata": {},
   "outputs": [
    {
     "ename": "KeyError",
     "evalue": "\"['age'] not in index\"",
     "output_type": "error",
     "traceback": [
      "\u001b[1;31m---------------------------------------------------------------------------\u001b[0m",
      "\u001b[1;31mKeyError\u001b[0m                                  Traceback (most recent call last)",
      "Cell \u001b[1;32mIn[6], line 9\u001b[0m\n\u001b[0;32m      6\u001b[0m data_column \u001b[38;5;241m=\u001b[39m table\u001b[38;5;241m.\u001b[39mname\n\u001b[0;32m      7\u001b[0m \u001b[38;5;66;03m# Lấy dữ liệu của 2 cột\u001b[39;00m\n\u001b[0;32m      8\u001b[0m \u001b[38;5;66;03m# Có thể lấy dữ liệu của nhiều cột, nhưng phải chỉ rõ cột\u001b[39;00m\n\u001b[1;32m----> 9\u001b[0m data_2_columns \u001b[38;5;241m=\u001b[39m \u001b[43mtable\u001b[49m\u001b[43m[\u001b[49m\u001b[43m[\u001b[49m\u001b[38;5;124;43m'\u001b[39;49m\u001b[38;5;124;43mname\u001b[39;49m\u001b[38;5;124;43m'\u001b[39;49m\u001b[43m,\u001b[49m\u001b[43m \u001b[49m\u001b[38;5;124;43m'\u001b[39;49m\u001b[38;5;124;43mage\u001b[39;49m\u001b[38;5;124;43m'\u001b[39;49m\u001b[43m]\u001b[49m\u001b[43m]\u001b[49m \n\u001b[0;32m     10\u001b[0m \u001b[38;5;28mprint\u001b[39m(data_column)\n",
      "File \u001b[1;32m~\\AppData\\Roaming\\Python\\Python312\\site-packages\\pandas\\core\\frame.py:4108\u001b[0m, in \u001b[0;36mDataFrame.__getitem__\u001b[1;34m(self, key)\u001b[0m\n\u001b[0;32m   4106\u001b[0m     \u001b[38;5;28;01mif\u001b[39;00m is_iterator(key):\n\u001b[0;32m   4107\u001b[0m         key \u001b[38;5;241m=\u001b[39m \u001b[38;5;28mlist\u001b[39m(key)\n\u001b[1;32m-> 4108\u001b[0m     indexer \u001b[38;5;241m=\u001b[39m \u001b[38;5;28;43mself\u001b[39;49m\u001b[38;5;241;43m.\u001b[39;49m\u001b[43mcolumns\u001b[49m\u001b[38;5;241;43m.\u001b[39;49m\u001b[43m_get_indexer_strict\u001b[49m\u001b[43m(\u001b[49m\u001b[43mkey\u001b[49m\u001b[43m,\u001b[49m\u001b[43m \u001b[49m\u001b[38;5;124;43m\"\u001b[39;49m\u001b[38;5;124;43mcolumns\u001b[39;49m\u001b[38;5;124;43m\"\u001b[39;49m\u001b[43m)\u001b[49m[\u001b[38;5;241m1\u001b[39m]\n\u001b[0;32m   4110\u001b[0m \u001b[38;5;66;03m# take() does not accept boolean indexers\u001b[39;00m\n\u001b[0;32m   4111\u001b[0m \u001b[38;5;28;01mif\u001b[39;00m \u001b[38;5;28mgetattr\u001b[39m(indexer, \u001b[38;5;124m\"\u001b[39m\u001b[38;5;124mdtype\u001b[39m\u001b[38;5;124m\"\u001b[39m, \u001b[38;5;28;01mNone\u001b[39;00m) \u001b[38;5;241m==\u001b[39m \u001b[38;5;28mbool\u001b[39m:\n",
      "File \u001b[1;32m~\\AppData\\Roaming\\Python\\Python312\\site-packages\\pandas\\core\\indexes\\base.py:6200\u001b[0m, in \u001b[0;36mIndex._get_indexer_strict\u001b[1;34m(self, key, axis_name)\u001b[0m\n\u001b[0;32m   6197\u001b[0m \u001b[38;5;28;01melse\u001b[39;00m:\n\u001b[0;32m   6198\u001b[0m     keyarr, indexer, new_indexer \u001b[38;5;241m=\u001b[39m \u001b[38;5;28mself\u001b[39m\u001b[38;5;241m.\u001b[39m_reindex_non_unique(keyarr)\n\u001b[1;32m-> 6200\u001b[0m \u001b[38;5;28;43mself\u001b[39;49m\u001b[38;5;241;43m.\u001b[39;49m\u001b[43m_raise_if_missing\u001b[49m\u001b[43m(\u001b[49m\u001b[43mkeyarr\u001b[49m\u001b[43m,\u001b[49m\u001b[43m \u001b[49m\u001b[43mindexer\u001b[49m\u001b[43m,\u001b[49m\u001b[43m \u001b[49m\u001b[43maxis_name\u001b[49m\u001b[43m)\u001b[49m\n\u001b[0;32m   6202\u001b[0m keyarr \u001b[38;5;241m=\u001b[39m \u001b[38;5;28mself\u001b[39m\u001b[38;5;241m.\u001b[39mtake(indexer)\n\u001b[0;32m   6203\u001b[0m \u001b[38;5;28;01mif\u001b[39;00m \u001b[38;5;28misinstance\u001b[39m(key, Index):\n\u001b[0;32m   6204\u001b[0m     \u001b[38;5;66;03m# GH 42790 - Preserve name from an Index\u001b[39;00m\n",
      "File \u001b[1;32m~\\AppData\\Roaming\\Python\\Python312\\site-packages\\pandas\\core\\indexes\\base.py:6252\u001b[0m, in \u001b[0;36mIndex._raise_if_missing\u001b[1;34m(self, key, indexer, axis_name)\u001b[0m\n\u001b[0;32m   6249\u001b[0m     \u001b[38;5;28;01mraise\u001b[39;00m \u001b[38;5;167;01mKeyError\u001b[39;00m(\u001b[38;5;124mf\u001b[39m\u001b[38;5;124m\"\u001b[39m\u001b[38;5;124mNone of [\u001b[39m\u001b[38;5;132;01m{\u001b[39;00mkey\u001b[38;5;132;01m}\u001b[39;00m\u001b[38;5;124m] are in the [\u001b[39m\u001b[38;5;132;01m{\u001b[39;00maxis_name\u001b[38;5;132;01m}\u001b[39;00m\u001b[38;5;124m]\u001b[39m\u001b[38;5;124m\"\u001b[39m)\n\u001b[0;32m   6251\u001b[0m not_found \u001b[38;5;241m=\u001b[39m \u001b[38;5;28mlist\u001b[39m(ensure_index(key)[missing_mask\u001b[38;5;241m.\u001b[39mnonzero()[\u001b[38;5;241m0\u001b[39m]]\u001b[38;5;241m.\u001b[39munique())\n\u001b[1;32m-> 6252\u001b[0m \u001b[38;5;28;01mraise\u001b[39;00m \u001b[38;5;167;01mKeyError\u001b[39;00m(\u001b[38;5;124mf\u001b[39m\u001b[38;5;124m\"\u001b[39m\u001b[38;5;132;01m{\u001b[39;00mnot_found\u001b[38;5;132;01m}\u001b[39;00m\u001b[38;5;124m not in index\u001b[39m\u001b[38;5;124m\"\u001b[39m)\n",
      "\u001b[1;31mKeyError\u001b[0m: \"['age'] not in index\""
     ]
    }
   ],
   "source": [
    "# DataFrame.iloc[row, column]\n",
    "# row, column chỉ nhận giá trị là vị trí row, column trong bảng\n",
    "table.iloc[1, 0] # Lấy dữ liệu ở vị trí row = 1, column = 0\n",
    "table.iloc[1:3, 0:3] # Lấy dữ liệu ở vị trí row = {1, 2}, column = {0, 1, 2}\n",
    "# Lấy dữ liệu của 1 cột\n",
    "data_column = table.name\n",
    "# Lấy dữ liệu của 2 cột\n",
    "# Có thể lấy dữ liệu của nhiều cột, nhưng phải chỉ rõ cột\n",
    "data_2_columns = table[['name', 'age']] \n",
    "print(data_column)"
   ]
  },
  {
   "cell_type": "markdown",
   "metadata": {},
   "source": [
    "Đọc file .csv\n",
    "\n",
    "Đổi tất cả dấu \\ trong đường dẫn thành dấu / (nếu có)\n",
    "\n",
    "vd: E:\\XacSuatThongKe\\DuLieuThucHanh\\Du_lieu\\BMW.csv -> E:/XacSuatThongKe/DuLieuThucHanh/Du_lieu/BMW.csv"
   ]
  },
  {
   "cell_type": "code",
   "execution_count": 6,
   "metadata": {},
   "outputs": [
    {
     "name": "stdout",
     "output_type": "stream",
     "text": [
      "     Gia  SoKm\n",
      "0   31.0    24\n",
      "1   21.0    52\n",
      "2   11.0   150\n",
      "3   12.5   115\n",
      "4   18.5    75\n",
      "5   13.0   156\n",
      "6   15.5    80\n",
      "7    8.6   126\n",
      "8   11.0   124\n",
      "9    6.7   195\n",
      "10   9.0   138\n",
      "11   9.0   180\n",
      "12  30.0    53\n",
      "13  18.0    70\n",
      "14   8.0   143\n"
     ]
    },
    {
     "data": {
      "text/plain": [
       "pandas.core.frame.DataFrame"
      ]
     },
     "execution_count": 6,
     "metadata": {},
     "output_type": "execute_result"
    }
   ],
   "source": [
    "# Đọc dữ liệu từ file .csv\n",
    "\n",
    "# Defaut max_rows = 60: Hiển thị đối đa 60 dòng\n",
    "pd.options.display.max_rows = 100 # Thay đổi max_rows = 100\n",
    "table = pd.read_csv('E:/XacSuatThongKe/DuLieuThucHanh/Du_lieu/BMW.csv')\n",
    "print(table)\n",
    "\n",
    "# Đọc dữ liệu từ file .json\n",
    "# table = pd.read_csv('E:/XacSuatThongKe/DuLieuThucHanh/Du_lieu/BMW.json')\n",
    "\n",
    "# Xem Data type của table\n",
    "type(table)"
   ]
  },
  {
   "cell_type": "code",
   "execution_count": null,
   "metadata": {},
   "outputs": [],
   "source": [
    "# Lấy dữ liệu 5 dòng đầu tiên của bảng\n",
    "# Giá trị defaut = 5\n",
    "table.head()\n",
    "\n",
    "table.head(10) # Lấy dữ liệu 10 dòng đầu tiên của bảng\n",
    "\n",
    "table.tail() # Tương tụ table.head()\n",
    "\n",
    "table.shape # Trả về số lượng dòng - số lượng Quan sát, cột - số lượng Biến trong bảng\n",
    "table.shape[0] # Trả về số lượng dòng - số lượng Quan sát trong bảng\n",
    "table.shape[1] # Trả về số lượng cột - số lượng Biến trong bảng\n",
    "table.columns # Trả về tên các cột - các biến trong bảng"
   ]
  },
  {
   "cell_type": "code",
   "execution_count": null,
   "metadata": {},
   "outputs": [],
   "source": [
    "# Thêm cột vào bảng dữ liệu\n",
    "\n",
    "# Tạo mảng saler\n",
    "# Số lượng phần tử của saler phải bằng số lượng dòng trong bảng\n",
    "# Ví dụ trong bảng có 15 dòng thì số phần tử của saler phải là 15\n",
    "saler = [\"Hoan\", \"Hoan\", \"Hoan\", \"Hoan\", \"Hoan\", \"Hoan\", \"Hoan\", \"Hoan\", \"Hoan\", \"Hoan\", \"Hoan\", \"Hoan\", \"Hoan\", \"Hoan\", \"Hoan\"]\n",
    "\n",
    "# Tạo cột mới có tên NguoiBan\n",
    "# Gán giá trị cho NguoiBan = saler\n",
    "table['NguoiBan'] = saler\n",
    "table.NguoiBan = saler\n",
    "print(table)\n",
    "\n",
    "# Lấy dữ liệu ở cột người bán\n",
    "print(table['NguoiBan'])"
   ]
  },
  {
   "cell_type": "code",
   "execution_count": null,
   "metadata": {},
   "outputs": [],
   "source": [
    "# Chèn cột vào bảng\n",
    "# insert(vị trí muốn chèn, \"tên cột\", giá trị cho từng dòng (là 1 Mảng))\n",
    "# Mảng phải có số lượng phần tử bằng số lượng dòng của bảng\n",
    "buyer = [\"Hoan\", \"Hoan\", \"Hoan\", \"Hoan\", \"Hoan\", \n",
    "         \"Hoan\", \"Hoan\", \"Hoan\", \"Hoan\", \"Hoan\", \"Hoan\", \"Hoan\", \"Hoan\", \"Hoan\", \"Hoan\"]\n",
    "table.insert(0, \"NguoiMua\", buyer)\n",
    "print(table)\n",
    "\n",
    "# Phương thức DataFrame.assign(): Tạo 1 bảng mới\n",
    "df1 = table.assign(NguoiMua1=buyer) # tạo bảng df1 có thêm cột NguoiMua1\n",
    "print(df1)"
   ]
  },
  {
   "cell_type": "code",
   "execution_count": null,
   "metadata": {},
   "outputs": [],
   "source": [
    "table = pd.read_csv('E:/XacSuatThongKe/DuLieuThucHanh/Du_lieu/BMW.csv')\n",
    "# Thêm 1 dòng vào bảng\n",
    "table.loc[table.shape[0]] = [500, 52]\n",
    "table.loc[table.shape[0]] = [500, 52]\n",
    "table.loc[table.shape[0]] = [500, 52]\n",
    "print(table)"
   ]
  },
  {
   "cell_type": "code",
   "execution_count": null,
   "metadata": {},
   "outputs": [],
   "source": [
    "# Lọc dữ liệu\n",
    "# DataFrame.query(expr, inplace) trả về 1 bảng dữ liệu\n",
    "# expr: Tham số bắt buộc bắt buộc\n",
    "# inplace: Có thể có hoặc không \n",
    "# inplace = False/ True: Dữ liệu gốc được giữ nguyên/ thay đổi\n",
    "# result = table.query(\"Gia >= 30\")\n",
    "\n",
    "# Với dữ liệu là chuỗi\n",
    "result = table.query('GioiTinh == \"Nu\"')\n",
    "print(result)\n",
    "\n",
    "# print(table.query('Gia == 30'))"
   ]
  },
  {
   "cell_type": "code",
   "execution_count": null,
   "metadata": {},
   "outputs": [],
   "source": [
    "# Lấy các giá trị phân biệt bằng hàm unique()\n",
    "table.SoKm.unique() # Lấy các giá trị phân biệt của cột SoKm\n",
    "\n",
    "# Đếm số lượng theo từng mức giá\n",
    "table.groupby(['Gia']).size()"
   ]
  },
  {
   "cell_type": "code",
   "execution_count": null,
   "metadata": {},
   "outputs": [],
   "source": [
    "# Xóa dữ liệu trống bằng hàm dropna()\n",
    "# Có thể thêm tham số inplace nếu muốn thay đổi dữ liệu trong bảng gốc(table)\n",
    "df1 = table.dropna()\n",
    "\n",
    "# Thay đổi giá trị trống bằng hàm fillna()\n",
    "# Có thể thêm tham số inplace nếu muốn thay đổi dữ liệu trong bảng gốc(table) \n",
    "df1 = table.fillna(305) # thay đổi giá trị trống trong table thành 305\n",
    "\n",
    "# Xóa phần tử bằng hàm drop()\n",
    "# Xóa phần tử ở vị trí đầu tiên, nếu có tham số inplace = True\n",
    "# Thì sẽ xóa phần tử trong bảng chính\n",
    "table.drop(0, inplace=True) \n",
    "for i in (table.index):\n",
    "    if table.loc[i, \"Gia\"] == 500:\n",
    "        table.drop(i, inplace=True)\n",
    "print(table)"
   ]
  },
  {
   "cell_type": "markdown",
   "metadata": {},
   "source": [
    "Bảng tần số cho dữ liệu ĐỊNH TÍNH"
   ]
  },
  {
   "cell_type": "code",
   "execution_count": 10,
   "metadata": {},
   "outputs": [
    {
     "name": "stdout",
     "output_type": "stream",
     "text": [
      "Score\n",
      "8     4\n",
      "10    4\n",
      "5     3\n",
      "4     3\n",
      "3     3\n",
      "6     3\n",
      "7     2\n",
      "9     2\n",
      "2     1\n",
      "Name: count, dtype: int64\n"
     ]
    }
   ],
   "source": [
    "# Phương thức Seriers.value.counts(normalize, sort, bins, dropna)\n",
    "# Trả về tần số của các quan sát trong bảng\n",
    "# normalize = True: Trả về tần suất, False: Trả về tần số\n",
    "# sort = True: Sắp xếp tần số theo thứ tự tăng dần, False: Giảm dần\n",
    "# bins: chia nhóm (chỉ áp dụng cho dữ liệu định lượng)\n",
    "# dropna = True: Không tính giá trị trống (N/A)\n",
    "\n",
    "table = pd.read_csv('E:/XacSuatThongKe/DuLieuThucHanh/Du_lieu/Cartwheel.csv')\n",
    "# print(table)\n",
    "tan_so = table['Score'].value_counts()\n",
    "print(tan_so)"
   ]
  },
  {
   "cell_type": "code",
   "execution_count": null,
   "metadata": {},
   "outputs": [],
   "source": [
    "# Bảng tần số chéo cho 2 hay nhiều biến định tính\n",
    "# Phương thức Pandas.crosstab(index, columns, margins, dropna, normalizer)\n",
    "# margin: Kiểu bool, thêm tổng dòng, tổng cột (Giá trị biên)\n",
    "# normalize = True: Tính tần suất\n",
    "# normalize = \"index\": Tính tần suất theo dòng\n",
    "# normalize = \"columns\": Tính tần suất theo cột\n",
    "table = pd.read_csv('E:/XacSuatThongKe/DuLieuThucHanh/Du_lieu/Cartwheel.csv')\n",
    "# print(table)\n",
    "ts_cheo = pd.crosstab(table.Gender, table.Complete, normalize=True)\n",
    "print(ts_cheo)"
   ]
  },
  {
   "cell_type": "markdown",
   "metadata": {},
   "source": [
    "Bảng tần số cho dữ liệu ĐỊNH LƯỢNG"
   ]
  },
  {
   "cell_type": "code",
   "execution_count": 9,
   "metadata": {},
   "outputs": [
    {
     "data": {
      "text/plain": [
       "Height\n",
       "(61.486, 63.75]    0.24\n",
       "(63.75, 66.0]      0.24\n",
       "(68.25, 70.5]      0.20\n",
       "(72.75, 75.0]      0.20\n",
       "(70.5, 72.75]      0.08\n",
       "(66.0, 68.25]      0.04\n",
       "Name: proportion, dtype: float64"
      ]
     },
     "execution_count": 9,
     "metadata": {},
     "output_type": "execute_result"
    }
   ],
   "source": [
    "# Hàm Pandas.cut(x, bins, right = True, labels = None, include_lowest = False, ordered = True)\n",
    "# x: Phân tổ theo Quan sát nào. VD: Phân tổ theo Quan sát: Height\n",
    "# bins: Số lượng tổ\n",
    "# labels = None: Các tổ được xây dựng theo dạng (a, b]\n",
    "# right = True: Tổ có dang (a, b], False: Tổ có dạng [a, b)\n",
    "# include_lowest = True: Tổ đầu chứa giá trị nhỏ nhất của các điểm chia (khi right = True)\n",
    "# include_lowest = False: Tổ cuối chứa giá trị lớn nhất của các điểm chia (khi right = False)\n",
    "# ordered = True: Sắp xếp các labels theo thứ tự\n",
    "\n",
    "table = pd.read_csv('E:/XacSuatThongKe/DuLieuThucHanh/Du_lieu/Cartwheel.csv')\n",
    "# table.Height.min() # lấy giá trị min bẳng hàm Pandas.min()\n",
    "# table.Height.max() # lấy giá trị max bẳng hàm Pandas.max()\n",
    "# 6 tổ, h = 3\n",
    "cut_height = pd.cut(table.Height, bins = 6) #61, 64, 67 ,70, 73, 76\n",
    "# cut_height_1 = pd.cut(table.Height, bins = [61, 64, 67, 70, 73, 76])\n",
    "cut_height.value_counts(normalize=True)\n"
   ]
  },
  {
   "cell_type": "markdown",
   "metadata": {},
   "source": [
    "Vẽ biểu đồ"
   ]
  },
  {
   "cell_type": "markdown",
   "metadata": {},
   "source": [
    "Dữ liệu định tính"
   ]
  },
  {
   "cell_type": "code",
   "execution_count": 19,
   "metadata": {},
   "outputs": [
    {
     "name": "stdout",
     "output_type": "stream",
     "text": [
      "     Unnamed: 0  observation_number  dist_cod       county  \\\n",
      "0             1                   1     75119      Alameda   \n",
      "1             2                   2     61499        Butte   \n",
      "2             3                   3     61549        Butte   \n",
      "3             4                   4     61457        Butte   \n",
      "4             5                   5     61523        Butte   \n",
      "..          ...                 ...       ...          ...   \n",
      "415         416                 416     68957    San Mateo   \n",
      "416         417                 417     69518  Santa Clara   \n",
      "417         418                 418     72611      Ventura   \n",
      "418         419                 419     72744         Yuba   \n",
      "419         420                 420     72751         Yuba   \n",
      "\n",
      "                            district gr_span  enrl_tot    teachers   calw_pct  \\\n",
      "0                 Sunol Glen Unified   KK-08       195   10.900000   0.510200   \n",
      "1               Manzanita Elementary   KK-08       240   11.150000  15.416700   \n",
      "2        Thermalito Union Elementary   KK-08      1550   82.900002  55.032299   \n",
      "3    Golden Feather Union Elementary   KK-08       243   14.000000  36.475399   \n",
      "4           Palermo Union Elementary   KK-08      1335   71.500000  33.108601   \n",
      "..                               ...     ...       ...         ...        ...   \n",
      "415           Las Lomitas Elementary   KK-08       984   59.730000   0.101600   \n",
      "416             Los Altos Elementary   KK-08      3724  208.479996   1.074100   \n",
      "417           Somis Union Elementary   KK-08       441   20.150000   3.563500   \n",
      "418                Plumas Elementary   KK-08       101    5.000000  11.881200   \n",
      "419             Wheatland Elementary   KK-08      1778   93.400002   6.923500   \n",
      "\n",
      "      meal_pct  computer     testscr  comp_stu     expn_stu        str  \\\n",
      "0     2.040800        67  690.799988  0.343590  6384.911133  17.889910   \n",
      "1    47.916698       101  661.200012  0.420833  5099.380859  21.524664   \n",
      "2    76.322601       169  643.599976  0.109032  5501.954590  18.697226   \n",
      "3    77.049202        85  647.700012  0.349794  7101.831055  17.357143   \n",
      "4    78.427002       171  640.849976  0.128090  5235.987793  18.671329   \n",
      "..         ...       ...         ...       ...          ...        ...   \n",
      "415   3.556900       195  704.300049  0.198171  7290.338867  16.474134   \n",
      "416   1.503800       721  706.750000  0.193609  5741.462891  17.862625   \n",
      "417  37.193802        45  645.000000  0.102041  4402.831543  21.885857   \n",
      "418  59.405899        14  672.200012  0.138614  4776.336426  20.200001   \n",
      "419  47.571201       313  655.750000  0.176041  5993.392578  19.036402   \n",
      "\n",
      "        avginc     el_pct    read_scr    math_scr  \n",
      "0    22.690001   0.000000  691.599976  690.000000  \n",
      "1     9.824000   4.583333  660.500000  661.900024  \n",
      "2     8.978000  30.000002  636.299988  650.900024  \n",
      "3     8.978000   0.000000  651.900024  643.500000  \n",
      "4     9.080333  13.857677  641.799988  639.900024  \n",
      "..         ...        ...         ...         ...  \n",
      "415  28.716999   5.995935  700.900024  707.700012  \n",
      "416  41.734108   4.726101  704.000000  709.500000  \n",
      "417  23.733000  24.263039  648.299988  641.700012  \n",
      "418   9.952000   2.970297  667.900024  676.500000  \n",
      "419  12.502000   5.005624  660.500000  651.000000  \n",
      "\n",
      "[420 rows x 19 columns]\n"
     ]
    }
   ],
   "source": [
    "table = pd.read_csv('E:/XacSuatThongKe/DuLieuThucHanh/Du_lieu/caschool.csv')\n",
    "print(table)"
   ]
  },
  {
   "cell_type": "markdown",
   "metadata": {},
   "source": [
    "Biểu đồ tán xạ (Scatter)"
   ]
  },
  {
   "cell_type": "code",
   "execution_count": 20,
   "metadata": {},
   "outputs": [
    {
     "data": {
      "text/plain": [
       "<Axes: title={'center': 'Bieu do tan xa giua diem Toan va diem Doc'}, xlabel='read_scr', ylabel='math_scr'>"
      ]
     },
     "execution_count": 20,
     "metadata": {},
     "output_type": "execute_result"
    },
    {
     "data": {
      "image/png": "[encoded data removed]",
      "text/plain": [
       "<Figure size 640x480 with 1 Axes>"
      ]
     },
     "metadata": {},
     "output_type": "display_data"
    }
   ],
   "source": [
    "table.plot(kind=\"scatter\", x=\"read_scr\", y=\"math_scr\", title=\"Bieu do tan xa giua diem Toan va diem Doc\")"
   ]
  },
  {
   "cell_type": "markdown",
   "metadata": {},
   "source": [
    "Biểu đồ phân phối tần số (Histogram)"
   ]
  },
  {
   "cell_type": "code",
   "execution_count": 21,
   "metadata": {},
   "outputs": [
    {
     "name": "stdout",
     "output_type": "stream",
     "text": [
      "Axes(0.125,0.11;0.775x0.77)\n"
     ]
    },
    {
     "data": {
      "image/png": "[encoded data removed]",
      "text/plain": [
       "<Figure size 640x480 with 1 Axes>"
      ]
     },
     "metadata": {},
     "output_type": "display_data"
    }
   ],
   "source": [
    "# Thuộc tính legend: Chú thích màu trong biểu đồ là của cột nào\n",
    "# table.testscr.plot(kind=\"hist\", title=\"Bieu do phan phoi diem thi\", legend=True)\n",
    "table_read_math = table[['read_scr', 'math_scr']].plot(kind=\"hist\", legend=True)\n",
    "print(table_read_math)"
   ]
  },
  {
   "cell_type": "markdown",
   "metadata": {},
   "source": [
    "Biểu đồ tròn (Pie)"
   ]
  },
  {
   "cell_type": "code",
   "execution_count": 14,
   "metadata": {},
   "outputs": [
    {
     "data": {
      "text/plain": [
       "<Axes: ylabel='count'>"
      ]
     },
     "execution_count": 14,
     "metadata": {},
     "output_type": "execute_result"
    },
    {
     "data": {
      "image/png": "[encoded data removed]",
      "text/plain": [
       "<Figure size 640x480 with 1 Axes>"
      ]
     },
     "metadata": {},
     "output_type": "display_data"
    }
   ],
   "source": [
    "# Thuộc tính autopct=\"%.2f\": lấy tỉ lệ là % tới 2 chữ số sau dấu phẩy\n",
    "table = pd.read_csv('E:/XacSuatThongKe/DuLieuThucHanh/Du_lieu/Cartwheel.csv')\n",
    "table.Gender.value_counts().plot(kind=\"pie\", legend=True, autopct=\"%.2f\")"
   ]
  },
  {
   "cell_type": "markdown",
   "metadata": {},
   "source": [
    "Biểu đồ thanh (Bar)"
   ]
  },
  {
   "cell_type": "code",
   "execution_count": 15,
   "metadata": {},
   "outputs": [
    {
     "data": {
      "text/plain": [
       "<Axes: xlabel='Gender'>"
      ]
     },
     "execution_count": 15,
     "metadata": {},
     "output_type": "execute_result"
    },
    {
     "data": {
      "image/png": "[encoded data removed]",
      "text/plain": [
       "<Figure size 640x480 with 1 Axes>"
      ]
     },
     "metadata": {},
     "output_type": "display_data"
    }
   ],
   "source": [
    "table.Gender.value_counts().plot(kind=\"bar\", legend=True)"
   ]
  },
  {
   "cell_type": "markdown",
   "metadata": {},
   "source": [
    "Dữ liệu định lượng"
   ]
  },
  {
   "cell_type": "markdown",
   "metadata": {},
   "source": [
    "Biểu đồ hộp (Box)"
   ]
  },
  {
   "cell_type": "code",
   "execution_count": null,
   "metadata": {},
   "outputs": [],
   "source": [
    "table = pd.read_csv('E:/XacSuatThongKe/DuLieuThucHanh/Du_lieu/caschool.csv')"
   ]
  },
  {
   "cell_type": "code",
   "execution_count": 8,
   "metadata": {},
   "outputs": [
    {
     "data": {
      "text/plain": [
       "<Axes: >"
      ]
     },
     "execution_count": 8,
     "metadata": {},
     "output_type": "execute_result"
    },
    {
     "data": {
      "image/png": "[encoded data removed]",
      "text/plain": [
       "<Figure size 640x480 with 1 Axes>"
      ]
     },
     "metadata": {},
     "output_type": "display_data"
    }
   ],
   "source": [
    "# Tham số vert = False: Vẽ biễu đồ nằm ngang\n",
    "table.testscr.plot(kind=\"box\", vert = False)"
   ]
  }
 ],
 "metadata": {
  "kernelspec": {
   "display_name": "Python 3",
   "language": "python",
   "name": "python3"
  },
  "language_info": {
   "codemirror_mode": {
    "name": "ipython",
    "version": 3
   },
   "file_extension": ".py",
   "mimetype": "text/x-python",
   "name": "python",
   "nbconvert_exporter": "python",
   "pygments_lexer": "ipython3",
   "version": "3.12.4"
  }
 },
 "nbformat": 4,
 "nbformat_minor": 2
}
