{
 "cells": [
  {
   "cell_type": "code",
   "execution_count": 8,
   "metadata": {},
   "outputs": [],
   "source": [
    "import numpy as np\n",
    "import pandas as pd\n",
    "import statsmodels.api as sm\n",
    "# from sklearn.linear_model import LinearRegression"
   ]
  },
  {
   "cell_type": "code",
   "execution_count": 9,
   "metadata": {},
   "outputs": [
    {
     "name": "stdout",
     "output_type": "stream",
     "text": [
      "    so_khach  chi_phi\n",
      "0         61     4.28\n",
      "1         63     4.08\n",
      "2         67     4.42\n",
      "3         69     4.17\n",
      "4         70     4.48\n",
      "5         74     4.30\n",
      "6         76     4.82\n",
      "7         81     4.70\n",
      "8         86     5.11\n",
      "9         91     5.13\n",
      "10        95     5.64\n",
      "11        97     5.56\n"
     ]
    }
   ],
   "source": [
    "data = {'so_khach': [61, 63, 67, 69, 70, 74, 76, 81, 86, 91, 95, 97],\n",
    "        'chi_phi': [4.280, 4.080, 4.420, 4.170, 4.480, 4.300, \n",
    "                     4.820, 4.700, 5.110, 5.130, 5.640, 5.560]\n",
    "       }\n",
    "table = pd.DataFrame(data)\n",
    "print(table)"
   ]
  },
  {
   "cell_type": "code",
   "execution_count": 10,
   "metadata": {},
   "outputs": [
    {
     "name": "stderr",
     "output_type": "stream",
     "text": [
      "C:\\Users\\Admin\\AppData\\Roaming\\Python\\Python312\\site-packages\\scipy\\stats\\_axis_nan_policy.py:418: UserWarning: `kurtosistest` p-value may be inaccurate with fewer than 20 observations; only n=12 observations were given.\n",
      "  return hypotest_fun_in(*args, **kwds)\n"
     ]
    },
    {
     "data": {
      "text/html": [
       "<table class=\"simpletable\">\n",
       "<caption>OLS Regression Results</caption>\n",
       "<tr>\n",
       "  <th>Dep. Variable:</th>         <td>chi_phi</td>     <th>  R-squared:         </th> <td>   0.899</td>\n",
       "</tr>\n",
       "<tr>\n",
       "  <th>Model:</th>                   <td>OLS</td>       <th>  Adj. R-squared:    </th> <td>   0.889</td>\n",
       "</tr>\n",
       "<tr>\n",
       "  <th>Method:</th>             <td>Least Squares</td>  <th>  F-statistic:       </th> <td>   89.09</td>\n",
       "</tr>\n",
       "<tr>\n",
       "  <th>Date:</th>             <td>Fri, 04 Oct 2024</td> <th>  Prob (F-statistic):</th> <td>2.69e-06</td>\n",
       "</tr>\n",
       "<tr>\n",
       "  <th>Time:</th>                 <td>09:20:17</td>     <th>  Log-Likelihood:    </th> <td>  4.8312</td>\n",
       "</tr>\n",
       "<tr>\n",
       "  <th>No. Observations:</th>      <td>    12</td>      <th>  AIC:               </th> <td>  -5.662</td>\n",
       "</tr>\n",
       "<tr>\n",
       "  <th>Df Residuals:</th>          <td>    10</td>      <th>  BIC:               </th> <td>  -4.693</td>\n",
       "</tr>\n",
       "<tr>\n",
       "  <th>Df Model:</th>              <td>     1</td>      <th>                     </th>     <td> </td>   \n",
       "</tr>\n",
       "<tr>\n",
       "  <th>Covariance Type:</th>      <td>nonrobust</td>    <th>                     </th>     <td> </td>   \n",
       "</tr>\n",
       "</table>\n",
       "<table class=\"simpletable\">\n",
       "<tr>\n",
       "      <td></td>        <th>coef</th>     <th>std err</th>      <th>t</th>      <th>P>|t|</th>  <th>[0.025</th>    <th>0.975]</th>  \n",
       "</tr>\n",
       "<tr>\n",
       "  <th>const</th>    <td>    1.5698</td> <td>    0.338</td> <td>    4.643</td> <td> 0.001</td> <td>    0.816</td> <td>    2.323</td>\n",
       "</tr>\n",
       "<tr>\n",
       "  <th>so_khach</th> <td>    0.0407</td> <td>    0.004</td> <td>    9.439</td> <td> 0.000</td> <td>    0.031</td> <td>    0.050</td>\n",
       "</tr>\n",
       "</table>\n",
       "<table class=\"simpletable\">\n",
       "<tr>\n",
       "  <th>Omnibus:</th>       <td> 1.556</td> <th>  Durbin-Watson:     </th> <td>   2.962</td>\n",
       "</tr>\n",
       "<tr>\n",
       "  <th>Prob(Omnibus):</th> <td> 0.459</td> <th>  Jarque-Bera (JB):  </th> <td>   0.872</td>\n",
       "</tr>\n",
       "<tr>\n",
       "  <th>Skew:</th>          <td>-0.253</td> <th>  Prob(JB):          </th> <td>   0.647</td>\n",
       "</tr>\n",
       "<tr>\n",
       "  <th>Kurtosis:</th>      <td> 1.780</td> <th>  Cond. No.          </th> <td>    518.</td>\n",
       "</tr>\n",
       "</table><br/><br/>Notes:<br/>[1] Standard Errors assume that the covariance matrix of the errors is correctly specified."
      ],
      "text/latex": [
       "\\begin{center}\n",
       "\\begin{tabular}{lclc}\n",
       "\\toprule\n",
       "\\textbf{Dep. Variable:}    &     chi\\_phi     & \\textbf{  R-squared:         } &     0.899   \\\\\n",
       "\\textbf{Model:}            &       OLS        & \\textbf{  Adj. R-squared:    } &     0.889   \\\\\n",
       "\\textbf{Method:}           &  Least Squares   & \\textbf{  F-statistic:       } &     89.09   \\\\\n",
       "\\textbf{Date:}             & Fri, 04 Oct 2024 & \\textbf{  Prob (F-statistic):} &  2.69e-06   \\\\\n",
       "\\textbf{Time:}             &     09:20:17     & \\textbf{  Log-Likelihood:    } &    4.8312   \\\\\n",
       "\\textbf{No. Observations:} &          12      & \\textbf{  AIC:               } &    -5.662   \\\\\n",
       "\\textbf{Df Residuals:}     &          10      & \\textbf{  BIC:               } &    -4.693   \\\\\n",
       "\\textbf{Df Model:}         &           1      & \\textbf{                     } &             \\\\\n",
       "\\textbf{Covariance Type:}  &    nonrobust     & \\textbf{                     } &             \\\\\n",
       "\\bottomrule\n",
       "\\end{tabular}\n",
       "\\begin{tabular}{lcccccc}\n",
       "                   & \\textbf{coef} & \\textbf{std err} & \\textbf{t} & \\textbf{P$> |$t$|$} & \\textbf{[0.025} & \\textbf{0.975]}  \\\\\n",
       "\\midrule\n",
       "\\textbf{const}     &       1.5698  &        0.338     &     4.643  &         0.001        &        0.816    &        2.323     \\\\\n",
       "\\textbf{so\\_khach} &       0.0407  &        0.004     &     9.439  &         0.000        &        0.031    &        0.050     \\\\\n",
       "\\bottomrule\n",
       "\\end{tabular}\n",
       "\\begin{tabular}{lclc}\n",
       "\\textbf{Omnibus:}       &  1.556 & \\textbf{  Durbin-Watson:     } &    2.962  \\\\\n",
       "\\textbf{Prob(Omnibus):} &  0.459 & \\textbf{  Jarque-Bera (JB):  } &    0.872  \\\\\n",
       "\\textbf{Skew:}          & -0.253 & \\textbf{  Prob(JB):          } &    0.647  \\\\\n",
       "\\textbf{Kurtosis:}      &  1.780 & \\textbf{  Cond. No.          } &     518.  \\\\\n",
       "\\bottomrule\n",
       "\\end{tabular}\n",
       "%\\caption{OLS Regression Results}\n",
       "\\end{center}\n",
       "\n",
       "Notes: \\newline\n",
       " [1] Standard Errors assume that the covariance matrix of the errors is correctly specified."
      ],
      "text/plain": [
       "<class 'statsmodels.iolib.summary.Summary'>\n",
       "\"\"\"\n",
       "                            OLS Regression Results                            \n",
       "==============================================================================\n",
       "Dep. Variable:                chi_phi   R-squared:                       0.899\n",
       "Model:                            OLS   Adj. R-squared:                  0.889\n",
       "Method:                 Least Squares   F-statistic:                     89.09\n",
       "Date:                Fri, 04 Oct 2024   Prob (F-statistic):           2.69e-06\n",
       "Time:                        09:20:17   Log-Likelihood:                 4.8312\n",
       "No. Observations:                  12   AIC:                            -5.662\n",
       "Df Residuals:                      10   BIC:                            -4.693\n",
       "Df Model:                           1                                         \n",
       "Covariance Type:            nonrobust                                         \n",
       "==============================================================================\n",
       "                 coef    std err          t      P>|t|      [0.025      0.975]\n",
       "------------------------------------------------------------------------------\n",
       "const          1.5698      0.338      4.643      0.001       0.816       2.323\n",
       "so_khach       0.0407      0.004      9.439      0.000       0.031       0.050\n",
       "==============================================================================\n",
       "Omnibus:                        1.556   Durbin-Watson:                   2.962\n",
       "Prob(Omnibus):                  0.459   Jarque-Bera (JB):                0.872\n",
       "Skew:                          -0.253   Prob(JB):                        0.647\n",
       "Kurtosis:                       1.780   Cond. No.                         518.\n",
       "==============================================================================\n",
       "\n",
       "Notes:\n",
       "[1] Standard Errors assume that the covariance matrix of the errors is correctly specified.\n",
       "\"\"\""
      ]
     },
     "execution_count": 10,
     "metadata": {},
     "output_type": "execute_result"
    }
   ],
   "source": [
    "so_khach = sm.add_constant(table.so_khach) #Tạo 1 bảng mới gồm 1 cột hằng số và cột so_khach\n",
    "# statsmodels.OLS(para1, para2).fit()\n",
    "# para1: biến phụ thuộc\n",
    "# para2: biến độc lập\n",
    "model = sm.OLS(table.chi_phi, so_khach).fit() # OLS: Phương pháp bình phương bé nhất\n",
    "model.summary()"
   ]
  },
  {
   "cell_type": "code",
   "execution_count": 11,
   "metadata": {},
   "outputs": [],
   "source": [
    "# cột coef có 2 giá trị lần lượt là B0 và B1\n",
    "# cột P > |t|: p-value"
   ]
  },
  {
   "cell_type": "markdown",
   "metadata": {},
   "source": [
    "#### Kết quả\n",
    "\n",
    "Từ những kết quả trên ta có:\n",
    "\n",
    "**- Mô hình ước lượng (mô hình hồi quy mẫu) của chi phí theo số khách:**\n",
    " $$\\hat{Y} = 1.5698 + 0.0407*X$$\n",
    "\n",
    " **$\\beta_0 = 1.5698$** - *Ý nghĩa: Chi phí trung bình khi số khách = 0 khoảng 1.5698*\n",
    "  \n",
    " **$\\beta_1 = 0.0407$** - *Ý nghĩa: Khi số hành khách tăng thêm 1 đơn vị thì trung bình chi phí bỏ thêm tăng khoảng 0.0407*\n",
    "\n",
    "**- Hệ số xác định của mô hình là $R^2 = R-squared = 0.899$**\n",
    "\n",
    "**Ý nghĩa của hệ số $R^2$**\n",
    "\n",
    "- $R^2 = 0.899 > 0.8$ thì mô hình phù hợp cao so với tập só liệu\n",
    "\n",
    "- 89.9% sự biến động của chi phí (biến phụ thuộc) được giải thích bởi số khách (từ mô hình)\n",
    "\n",
    "---"
   ]
  },
  {
   "cell_type": "markdown",
   "metadata": {},
   "source": [
    "##### Khoảng tin cậy 95% cho hệ số góc của mô hình:\n",
    "\n",
    "so_khach: [0.025, 0.975] = [0.031, 0.050]\n",
    "\n",
    "---"
   ]
  },
  {
   "cell_type": "markdown",
   "metadata": {},
   "source": [
    "##### Kiểm định xem số khách ảnh hưởng có ý nghĩa đến chi phí của chuyến bay không tại $\\alpha = 0.05$\n",
    "- Bài toán kiểm định sự có ý nghĩa của mô hình:\n",
    "$H_0: \\beta_1 = 0$ và $H_1: \\beta_1 \\ne 0$\n",
    "\n",
    "có p-giá trị là: P>|t| < 0.001 (vì kết quả cho 0.000 đến 3 chữ số sau dấu phảy vẫn là 0 nên nhỏ hơn 0.001 ). Từ đó p-giá trị < 0.05 nên bác bỏ H0 hay mô hình hồi quy có ý nghĩa. Tức là số khách ảnh hưởng có ý nghĩa đến chi phí của chuyến bay"
   ]
  },
  {
   "cell_type": "code",
   "execution_count": 12,
   "metadata": {},
   "outputs": [
    {
     "data": {
      "text/plain": [
       "array([4.62241267])"
      ]
     },
     "execution_count": 12,
     "metadata": {},
     "output_type": "execute_result"
    }
   ],
   "source": [
    "# Dự báo chi phí khi số khách bằng 75\n",
    "model.predict([1, 75])\n",
    "# Khi số khách là 75 thì chi phí trung bình của chuyến bay xấp xỉ 4.6224 đơn vị"
   ]
  },
  {
   "cell_type": "code",
   "execution_count": 13,
   "metadata": {},
   "outputs": [
    {
     "data": {
      "text/html": [
       "<div>\n",
       "<style scoped>\n",
       "    .dataframe tbody tr th:only-of-type {\n",
       "        vertical-align: middle;\n",
       "    }\n",
       "\n",
       "    .dataframe tbody tr th {\n",
       "        vertical-align: top;\n",
       "    }\n",
       "\n",
       "    .dataframe thead th {\n",
       "        text-align: right;\n",
       "    }\n",
       "</style>\n",
       "<table border=\"1\" class=\"dataframe\">\n",
       "  <thead>\n",
       "    <tr style=\"text-align: right;\">\n",
       "      <th></th>\n",
       "      <th>0</th>\n",
       "      <th>1</th>\n",
       "    </tr>\n",
       "  </thead>\n",
       "  <tbody>\n",
       "    <tr>\n",
       "      <th>const</th>\n",
       "      <td>0.816497</td>\n",
       "      <td>2.323089</td>\n",
       "    </tr>\n",
       "    <tr>\n",
       "      <th>so_khach</th>\n",
       "      <td>0.031094</td>\n",
       "      <td>0.050310</td>\n",
       "    </tr>\n",
       "  </tbody>\n",
       "</table>\n",
       "</div>"
      ],
      "text/plain": [
       "                 0         1\n",
       "const     0.816497  2.323089\n",
       "so_khach  0.031094  0.050310"
      ]
     },
     "execution_count": 13,
     "metadata": {},
     "output_type": "execute_result"
    }
   ],
   "source": [
    "# Khoảng tin cậy 95% cho hệ số góc\n",
    "model.conf_int(0.05)"
   ]
  }
 ],
 "metadata": {
  "kernelspec": {
   "display_name": "Python 3",
   "language": "python",
   "name": "python3"
  },
  "language_info": {
   "codemirror_mode": {
    "name": "ipython",
    "version": 3
   },
   "file_extension": ".py",
   "mimetype": "text/x-python",
   "name": "python",
   "nbconvert_exporter": "python",
   "pygments_lexer": "ipython3",
   "version": "3.12.4"
  }
 },
 "nbformat": 4,
 "nbformat_minor": 2
}
