{
 "cells": [
  {
   "cell_type": "code",
   "execution_count": 4,
   "id": "e2625b3b",
   "metadata": {},
   "outputs": [],
   "source": [
    "import scipy.stats as ss # type: ignore"
   ]
  },
  {
   "cell_type": "markdown",
   "id": "cc5e07ff",
   "metadata": {},
   "source": [
    "Bài 188\n",
    "\n",
    "Jones nhận thấy rằng tổng số nghìn dặm mà một chiếc ô tô có thể lái được cho đến khi không sử dụng được nữa là một biến ngẫu nhiên có phân phỗi mũ với tham số 1/20.\n",
    "\n",
    "a. Tính số nghìn dặm trung bình mà một chiếc ô tô loại này đi được.\n",
    "\n",
    "b. John mua một chiếc xe mới, tính xác suất để anh ấy đi xe được ít nhất 20\n",
    "nghìn dặm.\n",
    "\n",
    "c. Smith có một chiếc xe đã đi được 10 nghìn dặm, tính xác suất để John mua\n",
    "xe của Smith và đi được thêm ít nhất 20 nghìn dặm nữa.\n",
    "\n",
    "d. Tính lại các yêu cầu ở câu a, b, c với giả thiết số nghìn dặm mà ô tô đi được không phải tuân theo phân phối mũ mà là phân phối đều trên [0, 40]."
   ]
  },
  {
   "cell_type": "markdown",
   "id": "79572551",
   "metadata": {},
   "source": [
    "Gọi X là tổng số nghìn dặm mà một chiếc ô tô có thể lái được cho đến khi không sử dụng được nữa.\n",
    "\n",
    "Ta có X ~ exp(lambda = 1/20)\n",
    "\n",
    "a. Số nghìn dặm trung bình mà một chiếc ô tô loại này đi được.\n",
    "EX = 1/lambda = 20.\n",
    "\n",
    "b. Tính $P(X >= 20) = 1 - P(X < 20) = e^{-1} = 0.37$.\n",
    "\n",
    "c. Tính $P(X >= 30|X >= 10) = P([x >= 30][X >= 10])/P([X >= 10]) = P([x >= 30])/P([X >= 10]) = e^{-1} = 0.37$"
   ]
  },
  {
   "cell_type": "code",
   "execution_count": 5,
   "id": "d809bee6",
   "metadata": {},
   "outputs": [
    {
     "data": {
      "text/plain": [
       "np.float64(0.36787944117144233)"
      ]
     },
     "execution_count": 5,
     "metadata": {},
     "output_type": "execute_result"
    }
   ],
   "source": [
    "ss.expon.sf(x=20, scale = 20)"
   ]
  },
  {
   "cell_type": "markdown",
   "id": "23e054d1",
   "metadata": {},
   "source": [
    "Bài 196. The lifetime of a color television picture tube is a normal random variable with mean 8.2 years and standard deviation 1.4 years. What percentage of such tubes lasts\n",
    "\n",
    "a. more than 10 years;\n",
    "\n",
    "b. less than 5 years;\n",
    "\n",
    "c. between 5 and 10 years?\n",
    "\n",
    "d. What is the warranty period if 5% of products are warranted?"
   ]
  },
  {
   "cell_type": "markdown",
   "id": "e5b5d25f",
   "metadata": {},
   "source": [
    "Gọi X là bnn chỉ tuổi thọ của chiếc đèn hình màu trên TV.\n",
    "\n",
    "Khi đó X ~ N(mu=, sigma = 1.4)\n",
    "\n",
    "a. P(X > 10) = 1 - P(X <= 10) = 0.099\n",
    "\n",
    "b. P(X < 5) = 0.01\n",
    "\n",
    "c. P(5 <= X <= 10) = P(X <= 10) - P(X <= 5)\n",
    "\n",
    "d. Gọi a là thời gian bảo hành. Ta tìm a để P(X <= a) = 0.05\n",
    "==> a = 5.9 (năm)"
   ]
  },
  {
   "cell_type": "code",
   "execution_count": 3,
   "id": "d55ee8e3",
   "metadata": {},
   "outputs": [
    {
     "data": {
      "text/plain": [
       "np.float64(0.09927139684333092)"
      ]
     },
     "execution_count": 3,
     "metadata": {},
     "output_type": "execute_result"
    }
   ],
   "source": [
    "ss.norm.sf(10, 8.2, 1.4)"
   ]
  },
  {
   "cell_type": "code",
   "execution_count": 5,
   "id": "94968360",
   "metadata": {},
   "outputs": [
    {
     "data": {
      "text/plain": [
       "0.011135489479616408"
      ]
     },
     "execution_count": 5,
     "metadata": {},
     "output_type": "execute_result"
    }
   ],
   "source": [
    "ss.norm.cdf(5, 8.2, 1.4) = 0.89"
   ]
  },
  {
   "cell_type": "code",
   "execution_count": 6,
   "id": "69968b50",
   "metadata": {},
   "outputs": [
    {
     "data": {
      "text/plain": [
       "0.8895931136770526"
      ]
     },
     "execution_count": 6,
     "metadata": {},
     "output_type": "execute_result"
    }
   ],
   "source": [
    "ss.norm.cdf(10, 8.2, 1.4) - ss.norm.cdf(5, 8.2, 1.4)"
   ]
  },
  {
   "cell_type": "code",
   "execution_count": 7,
   "id": "5c78f9dc",
   "metadata": {},
   "outputs": [
    {
     "data": {
      "text/plain": [
       "5.897204922267937"
      ]
     },
     "execution_count": 7,
     "metadata": {},
     "output_type": "execute_result"
    }
   ],
   "source": [
    "ss.norm.ppf(0.05, 8.2, 1.4)"
   ]
  }
 ],
 "metadata": {
  "kernelspec": {
   "display_name": "Python 3 (ipykernel)",
   "language": "python",
   "name": "python3"
  },
  "language_info": {
   "codemirror_mode": {
    "name": "ipython",
    "version": 3
   },
   "file_extension": ".py",
   "mimetype": "text/x-python",
   "name": "python",
   "nbconvert_exporter": "python",
   "pygments_lexer": "ipython3",
   "version": "3.12.4"
  }
 },
 "nbformat": 4,
 "nbformat_minor": 5
}
