{
 "cells": [
  {
   "cell_type": "code",
   "execution_count": 3,
   "metadata": {},
   "outputs": [
    {
     "name": "stdout",
     "output_type": "stream",
     "text": [
      "0    6.5\n",
      "dtype: float64\n"
     ]
    }
   ],
   "source": [
    "import pandas as pd\n",
    "\n",
    "# data = {\n",
    "#     'score' : [5, 8, 5, 10, 4],\n",
    "#     'gender': ['F', 'F', 'F', 'F', 'M']\n",
    "# }\n",
    "\n",
    "data = [2.5, 7.4, 8.0, 4.5, 7.4, 9.2]\n",
    "mydata = pd.DataFrame(data)\n",
    "print(mydata.mean())\n",
    "\n",
    "\n",
    "\n",
    "# print(mydata.loc[0])\n",
    "\n",
    "# # Đọc file .csv\n",
    "# # Đổi tất cả \"\\\" trong đường dẫn thành \"/\" (nếu có)\n",
    "# # vd: E:\\XacSuatThongKe\\DuLieuThucHanh\\Du_lieu\\BMW.csv -> E:/XacSuatThongKe/DuLieuThucHanh/Du_lieu/BMW.csv\n",
    "# df = pd.read_csv('E:/XacSuatThongKe/DuLieuThucHanh/Du_lieu/BMW.csv')\n",
    "\n",
    "# # print with to_string()\n",
    "# print(df.to_string())\n",
    "\n",
    "# # print without to_string()\n",
    "# print(df)\n",
    "# print(pd.options.display.max_rows)"
   ]
  }
 ],
 "metadata": {
  "kernelspec": {
   "display_name": "Python 3",
   "language": "python",
   "name": "python3"
  },
  "language_info": {
   "codemirror_mode": {
    "name": "ipython",
    "version": 3
   },
   "file_extension": ".py",
   "mimetype": "text/x-python",
   "name": "python",
   "nbconvert_exporter": "python",
   "pygments_lexer": "ipython3",
   "version": "3.12.4"
  }
 },
 "nbformat": 4,
 "nbformat_minor": 2
}
