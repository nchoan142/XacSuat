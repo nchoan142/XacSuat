{
 "cells": [
  {
   "cell_type": "code",
   "execution_count": 24,
   "id": "0455c7ca",
   "metadata": {},
   "outputs": [],
   "source": [
    "import scipy.stats as ss"
   ]
  },
  {
   "cell_type": "markdown",
   "id": "423863de",
   "metadata": {},
   "source": [
    "#### Bài 149\n",
    "Gọi X là số đĩa bị hỏng trong gói\n",
    "\n",
    "X ~ B(n=10, p=0.01)\n",
    "\n",
    "Gói đĩa bị trả khi X > 1\n",
    "\n",
    "P(X > 1) = 1 - P(X <= 1) = 1 - P(X=0) + P(X=1)"
   ]
  },
  {
   "cell_type": "code",
   "execution_count": 25,
   "id": "84e30351",
   "metadata": {},
   "outputs": [
    {
     "name": "stdout",
     "output_type": "stream",
     "text": [
      "0.004266200242831419\n"
     ]
    }
   ],
   "source": [
    "1 - ss.binom.cdf(1, 10, 0.01)\n",
    "print(1 - ss.binom.cdf(1, 10, 0.01))"
   ]
  },
  {
   "cell_type": "code",
   "execution_count": 26,
   "id": "dd1a488f",
   "metadata": {
    "scrolled": true
   },
   "outputs": [
    {
     "data": {
      "text/plain": [
       "np.float64(0.0042662002428314185)"
      ]
     },
     "execution_count": 26,
     "metadata": {},
     "output_type": "execute_result"
    }
   ],
   "source": [
    "ss.binom.sf(1, 10, 0.01)"
   ]
  },
  {
   "cell_type": "code",
   "execution_count": 27,
   "id": "6aae045f",
   "metadata": {},
   "outputs": [
    {
     "data": {
      "text/plain": [
       "np.float64(0.004266200242831919)"
      ]
     },
     "execution_count": 27,
     "metadata": {},
     "output_type": "execute_result"
    }
   ],
   "source": [
    "1 - ss.binom.pmf(0, 10, 0.01) - ss.binom.pmf(1, 10, 0.01)"
   ]
  },
  {
   "cell_type": "markdown",
   "id": "4989bf5d",
   "metadata": {},
   "source": [
    "Gọi Y là số gói đĩa bị trả về trong 3 gói\n",
    "\n",
    "Y ~ B(n=3, p=0.0043)"
   ]
  },
  {
   "cell_type": "code",
   "execution_count": 28,
   "id": "569ab262",
   "metadata": {},
   "outputs": [
    {
     "data": {
      "text/plain": [
       "np.float64(0.012789298521)"
      ]
     },
     "execution_count": 28,
     "metadata": {},
     "output_type": "execute_result"
    }
   ],
   "source": [
    "ss.binom.pmf(1, 3, 0.0043)"
   ]
  },
  {
   "cell_type": "markdown",
   "id": "6569e45a",
   "metadata": {},
   "source": [
    "Bài 151. Số lượng stereo bị lỗi được sản xuất tại một nhà máy được cho là tuân theo phân phối Poisson với giá trị trung bình là 4.\n",
    "\n",
    "a. Tính xác suất để stereo bị lỗi được sản xuất hàng ngày không vượt quá 4.\n",
    "\n",
    "b. Tính xác suất để số lượng stereo bị lỗi được sản xuất trong vòng 2 ngày không vượt quá 3 là bao nhiêu?"
   ]
  },
  {
   "cell_type": "code",
   "execution_count": 29,
   "id": "4421f445",
   "metadata": {},
   "outputs": [
    {
     "data": {
      "text/plain": [
       "np.float64(0.6288369351798733)"
      ]
     },
     "execution_count": 29,
     "metadata": {},
     "output_type": "execute_result"
    }
   ],
   "source": [
    "#a. Gọi X là số stereo bị lỗi trong 1 ngày\n",
    "#P(X <= 4)\n",
    "ss.poisson.cdf(4, mu=4)"
   ]
  },
  {
   "cell_type": "code",
   "execution_count": 30,
   "id": "17236ac3",
   "metadata": {},
   "outputs": [
    {
     "data": {
      "text/plain": [
       "np.float64(0.04238011199168397)"
      ]
     },
     "execution_count": 30,
     "metadata": {},
     "output_type": "execute_result"
    }
   ],
   "source": [
    "#a. Gọi Y là số stereo bị lỗi trong 2 ngày\n",
    "#P(Y <= 3)\n",
    "ss.poisson.cdf(3, mu=8)"
   ]
  },
  {
   "cell_type": "markdown",
   "id": "a8802019",
   "metadata": {},
   "source": [
    "Bài 152. Chúng ta có thể lập dạng mô hình một con gấu xám Bắc Mỹ đang bắt cá hồi theo phân bố hình học.\n",
    "\n",
    "a. Tính xác suất để một con gấu bắt được cá ở lần thử thứ ba, sau hai lần thất bại.\n",
    "\n",
    "b. Tính xác suất để một con gấu bắt được cá với ít hơn 5 lần thử.\n",
    "\n",
    "c. Tính xác suất để một con gấu bắt được cá với ít hơn 21 lần thử.\n",
    "\n",
    "d. Tính xem số lần cần thiết để một con gấu phải thử để có xác suất bắt được cá là 0.9."
   ]
  },
  {
   "cell_type": "code",
   "execution_count": 31,
   "id": "35fdb9e3",
   "metadata": {},
   "outputs": [
    {
     "data": {
      "text/plain": [
       "np.float64(0.031119146037000004)"
      ]
     },
     "execution_count": 31,
     "metadata": {},
     "output_type": "execute_result"
    }
   ],
   "source": [
    "#a. P(X=3)\n",
    "ss.geom.pmf(3, 0.0333)"
   ]
  },
  {
   "cell_type": "code",
   "execution_count": 32,
   "id": "f8d95d05",
   "metadata": {},
   "outputs": [
    {
     "data": {
      "text/plain": [
       "np.float64(0.1266931345109679)"
      ]
     },
     "execution_count": 32,
     "metadata": {},
     "output_type": "execute_result"
    }
   ],
   "source": [
    "#b. P(X < 5) = P(X <= 4)\n",
    "ss.geom.cdf(4, 0.0333)"
   ]
  },
  {
   "cell_type": "code",
   "execution_count": 33,
   "id": "1008de7f",
   "metadata": {},
   "outputs": [
    {
     "data": {
      "text/plain": [
       "np.float64(68.0)"
      ]
     },
     "execution_count": 33,
     "metadata": {},
     "output_type": "execute_result"
    }
   ],
   "source": [
    "#d. Tim k de P(X <= k) = 0.9\n",
    "k = ss.geom.ppf(0.9, 0.0333)\n",
    "k"
   ]
  }
 ],
 "metadata": {
  "kernelspec": {
   "display_name": "Python 3 (ipykernel)",
   "language": "python",
   "name": "python3"
  },
  "language_info": {
   "codemirror_mode": {
    "name": "ipython",
    "version": 3
   },
   "file_extension": ".py",
   "mimetype": "text/x-python",
   "name": "python",
   "nbconvert_exporter": "python",
   "pygments_lexer": "ipython3",
   "version": "3.12.4"
  }
 },
 "nbformat": 4,
 "nbformat_minor": 5
}
