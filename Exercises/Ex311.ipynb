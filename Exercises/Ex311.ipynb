{
 "cells": [
  {
   "cell_type": "code",
   "execution_count": 84,
   "metadata": {},
   "outputs": [],
   "source": [
    "import pandas as pd\n",
    "import scipy.stats as ss"
   ]
  },
  {
   "cell_type": "code",
   "execution_count": 85,
   "metadata": {},
   "outputs": [],
   "source": [
    "table = pd.read_csv(\"E:/XacSuatThongKe/DuLieuThucHanh/Du_lieu/hostel.csv\")"
   ]
  },
  {
   "cell_type": "markdown",
   "metadata": {},
   "source": [
    "a. Khách du lịch thường nghĩ rằng Tokyo là thủ đô nên giá nhà trọ sẽ cao hơn các\n",
    "\n",
    "thành phố khác. Nhận định này có đúng cho hai thành phố Tokyo và Kyoto\n",
    "\n",
    "tại mức ý nghĩa α = 5% không.\n"
   ]
  },
  {
   "cell_type": "markdown",
   "metadata": {},
   "source": [
    "mu1: Giá nhà trọ trung bình tại Tokyo\n",
    "\n",
    "mu2: Giá nhà trọ trung bình tại Kyoto\n",
    "\n",
    "Giả thuyết cần kiểm định là: mu1 - mu2 > 0\n",
    "\n",
    "H0: mu1 <= mu2\n",
    "\n",
    "H1: mu1 > mu2"
   ]
  },
  {
   "cell_type": "code",
   "execution_count": 65,
   "metadata": {},
   "outputs": [],
   "source": [
    "price_tokyo = table.query('City == \"Tokyo\"')['price_from']\n",
    "price_kyoto = table.query('City == \"Kyoto\"')['price_from']"
   ]
  },
  {
   "cell_type": "code",
   "execution_count": 66,
   "metadata": {},
   "outputs": [
    {
     "data": {
      "text/plain": [
       "TtestResult(statistic=np.float64(1.0493840858717811), pvalue=np.float64(0.14810063553206787), df=np.float64(115.02265442731779))"
      ]
     },
     "execution_count": 66,
     "metadata": {},
     "output_type": "execute_result"
    }
   ],
   "source": [
    "ss.ttest_ind(price_tokyo, price_kyoto, equal_var=False, alternative=\"greater\")"
   ]
  },
  {
   "cell_type": "markdown",
   "metadata": {},
   "source": [
    "p-value = 0.85 > alpha nên không bác bỏ H0\n",
    "\n",
    "Tại mức ý nghĩa 5%, không có đủ bằng chứng chứng minh giá nhà trọ trung bình tại Tokyo cao hơn Kyoto\n",
    "\n",
    "Hay là ta có cơ sở thống kê để cho rằng giá nhà trọ ở Tokyo không cao hơn Kyoto"
   ]
  },
  {
   "cell_type": "markdown",
   "metadata": {},
   "source": [
    "b. Kiểm định tại mức ý nghĩa 1% không có sự khác biệt trong trung bình điểm\n",
    "\n",
    "đánh giá về tiện ích (facilities) và trung bình điểm đánh giá về độ sạch sẽ\n",
    "\n",
    "(cleanliness)"
   ]
  },
  {
   "cell_type": "markdown",
   "metadata": {},
   "source": [
    "mu1: Trung bình điểm đánh giá tiện ích\n",
    "\n",
    "mu2: Trung bình điểm đánh giá độ sạch sẽ\n",
    "\n",
    "Giả thuyết cần kiểm định: mu1 - mu2 = 0\n",
    "\n",
    "H0: mu1 = mu2\n",
    "\n",
    "H1: mu1 != mu2"
   ]
  },
  {
   "cell_type": "code",
   "execution_count": 67,
   "metadata": {},
   "outputs": [
    {
     "data": {
      "text/plain": [
       "TtestResult(statistic=np.float64(-9.379956003538563), pvalue=np.float64(1.7664840199466876e-18), df=np.int64(297))"
      ]
     },
     "execution_count": 67,
     "metadata": {},
     "output_type": "execute_result"
    }
   ],
   "source": [
    "ss.ttest_rel(table['facilities'], table['cleanliness'], alternative=\"two-sided\")"
   ]
  },
  {
   "cell_type": "markdown",
   "metadata": {},
   "source": [
    "p-value = 1.76 * 10^-18 < alpha nên bác bỏ H0\n",
    "\n",
    "Tại mức ý nghĩa 1%, có đủ bằng chứng để chứng minh có sự khác biệt giữa trung bình điểm đanh giá tiện ích và độ sạch sẽ"
   ]
  },
  {
   "cell_type": "markdown",
   "metadata": {},
   "source": [
    "c. Khách hàng thường sẽ đánh giá cao các nhà trọ ở thủ đô Tokyo hơn so với các\n",
    "\n",
    "thành phố khác. Dữ liệu về điểm đánh giá (summary_score) giữa thành phố\n",
    "\n",
    "Tokyo và Osaka có ủng hộ nhận định này không? Kết luận đưa ra tại mức ý\n",
    "\n",
    "nghĩa α = 5%."
   ]
  },
  {
   "cell_type": "markdown",
   "metadata": {},
   "source": [
    "mu1: Điểm đánh giá trung bình của thành phố Tokyo\n",
    "\n",
    "mu2: Điểm đánh giá trung bình của thành phố Osaka\n",
    "\n",
    "Giả thuyết cần kiểm định: mu1 - mu2 > 0\n",
    "\n",
    "H0: mu1 <= mu2\n",
    "\n",
    "H1: mu1 > mu2"
   ]
  },
  {
   "cell_type": "code",
   "execution_count": 68,
   "metadata": {},
   "outputs": [],
   "source": [
    "score_tokyo = table.query('City == \"Tokyo\"')['summary_score']\n",
    "score_osaka = table.query('City == \"Osaka\"')['summary_score']"
   ]
  },
  {
   "cell_type": "code",
   "execution_count": 69,
   "metadata": {},
   "outputs": [
    {
     "data": {
      "text/plain": [
       "TtestResult(statistic=np.float64(0.9179886057315083), pvalue=np.float64(0.18008800111320855), df=np.float64(142.49663564093694))"
      ]
     },
     "execution_count": 69,
     "metadata": {},
     "output_type": "execute_result"
    }
   ],
   "source": [
    "ss.ttest_ind(score_tokyo, score_osaka, equal_var=False, alternative=\"greater\")"
   ]
  },
  {
   "cell_type": "markdown",
   "metadata": {},
   "source": [
    "p-value = 0.18 > alpha nên không bác bỏ H0\n",
    "\n",
    "Tại mức ý nghĩa 5%, không có đủ bằng chứng chứng minh điểm trung bình đánh giá ở Tokyo lớn hơn Osaka"
   ]
  },
  {
   "cell_type": "markdown",
   "metadata": {},
   "source": [
    "d. Osaka là một thành phố hiện đại và sôi động, còn Kyoto là một thành phố lịch\n",
    "\n",
    "sử và văn hóa. Khách du lịch cho rằng các nhà trọ ở Kyoto sẽ an toàn hơn và\n",
    "\n",
    "cũng có sự đồng đều về độ an toàn (security) hơn so với Osaka. Kiểm định\n",
    "\n",
    "lại những nhận định này tại mức ý nghĩa α = 5%."
   ]
  },
  {
   "cell_type": "markdown",
   "metadata": {},
   "source": [
    "mu1: Điểm đánh giá trung bình về độ an toàn của Kyoto\n",
    "\n",
    "mu2: Điểm đánh gái trung bình về độ an toàn của Osaka\n",
    "\n",
    "H0: mu1 >= mu2\n",
    "\n",
    "H1: mu1 < mu2"
   ]
  },
  {
   "cell_type": "code",
   "execution_count": 70,
   "metadata": {},
   "outputs": [],
   "source": [
    "security_score_kyoto = table.query('City == \"Kyoto\"')['security']\n",
    "security_score_osaka = table.query('City == \"Osaka\"')['security']"
   ]
  },
  {
   "cell_type": "code",
   "execution_count": 71,
   "metadata": {},
   "outputs": [
    {
     "data": {
      "text/plain": [
       "TtestResult(statistic=np.float64(1.5276998562148962), pvalue=np.float64(0.9355884643537153), df=np.float64(141.26494898833218))"
      ]
     },
     "execution_count": 71,
     "metadata": {},
     "output_type": "execute_result"
    }
   ],
   "source": [
    "ss.ttest_ind(security_score_kyoto, security_score_osaka, equal_var=False, alternative=\"less\")"
   ]
  },
  {
   "cell_type": "markdown",
   "metadata": {},
   "source": [
    "p-value = 0.93 > alpha nên không bác bỏ H0\n",
    "\n",
    "Tại mức ý nghĩa 5%, có đủ bằng chứng để chứng minh điểm trung bình độ an toàn của Kyoto tốt hơn và đồng đều hơn Osaka"
   ]
  },
  {
   "cell_type": "markdown",
   "metadata": {},
   "source": [
    "e. Tỷ lệ điểm đánh giá mức độ sạch sẽ (cleanliness) tại Tokyo trên 9 không thấp\n",
    "\n",
    "hơn tỷ lệ này ở Osaka. Kiểm định lại nhận định này tại mức ý nghĩa α = 5%"
   ]
  },
  {
   "cell_type": "markdown",
   "metadata": {},
   "source": [
    "p1: Tỷ lệ đánh giá mức độ sạch sẽ ở Tokyo\n",
    "\n",
    "p2: Tỷ lệ đánh giá mức độ sạch sẽ ở Osaka\n",
    "\n",
    "H0: p1 >= p2\n",
    "\n",
    "H1: p1 < p2"
   ]
  },
  {
   "cell_type": "code",
   "execution_count": 82,
   "metadata": {},
   "outputs": [],
   "source": [
    "from statsmodels.stats.proportion import proportions_ztest\n",
    "import numpy as np"
   ]
  },
  {
   "cell_type": "code",
   "execution_count": 83,
   "metadata": {},
   "outputs": [
    {
     "ename": "ValueError",
     "evalue": "invalid alternative",
     "output_type": "error",
     "traceback": [
      "\u001b[1;31m---------------------------------------------------------------------------\u001b[0m",
      "\u001b[1;31mValueError\u001b[0m                                Traceback (most recent call last)",
      "Cell \u001b[1;32mIn[83], line 14\u001b[0m\n\u001b[0;32m     11\u001b[0m count \u001b[38;5;241m=\u001b[39m np\u001b[38;5;241m.\u001b[39marray([x1,x2])\n\u001b[0;32m     12\u001b[0m nobs \u001b[38;5;241m=\u001b[39m np\u001b[38;5;241m.\u001b[39marray([n1,n2])\n\u001b[1;32m---> 14\u001b[0m \u001b[43mproportions_ztest\u001b[49m\u001b[43m(\u001b[49m\u001b[43mcount\u001b[49m\u001b[43m,\u001b[49m\u001b[43m \u001b[49m\u001b[43mnobs\u001b[49m\u001b[43m,\u001b[49m\u001b[43m \u001b[49m\u001b[43mvalue\u001b[49m\u001b[38;5;241;43m=\u001b[39;49m\u001b[38;5;241;43m0\u001b[39;49m\u001b[43m,\u001b[49m\u001b[43m \u001b[49m\u001b[43malternative\u001b[49m\u001b[38;5;241;43m=\u001b[39;49m\u001b[38;5;124;43m\"\u001b[39;49m\u001b[38;5;124;43mless\u001b[39;49m\u001b[38;5;124;43m\"\u001b[39;49m\u001b[43m)\u001b[49m\n",
      "File \u001b[1;32m~\\AppData\\Roaming\\Python\\Python312\\site-packages\\statsmodels\\stats\\proportion.py:1026\u001b[0m, in \u001b[0;36mproportions_ztest\u001b[1;34m(count, nobs, value, alternative, prop_var)\u001b[0m\n\u001b[0;32m   1024\u001b[0m std_diff \u001b[38;5;241m=\u001b[39m np\u001b[38;5;241m.\u001b[39msqrt(var_)\n\u001b[0;32m   1025\u001b[0m \u001b[38;5;28;01mfrom\u001b[39;00m \u001b[38;5;21;01mstatsmodels\u001b[39;00m\u001b[38;5;21;01m.\u001b[39;00m\u001b[38;5;21;01mstats\u001b[39;00m\u001b[38;5;21;01m.\u001b[39;00m\u001b[38;5;21;01mweightstats\u001b[39;00m \u001b[38;5;28;01mimport\u001b[39;00m _zstat_generic2\n\u001b[1;32m-> 1026\u001b[0m \u001b[38;5;28;01mreturn\u001b[39;00m \u001b[43m_zstat_generic2\u001b[49m\u001b[43m(\u001b[49m\u001b[43mdiff\u001b[49m\u001b[43m,\u001b[49m\u001b[43m \u001b[49m\u001b[43mstd_diff\u001b[49m\u001b[43m,\u001b[49m\u001b[43m \u001b[49m\u001b[43malternative\u001b[49m\u001b[43m)\u001b[49m\n",
      "File \u001b[1;32m~\\AppData\\Roaming\\Python\\Python312\\site-packages\\statsmodels\\stats\\weightstats.py:800\u001b[0m, in \u001b[0;36m_zstat_generic2\u001b[1;34m(value, std, alternative)\u001b[0m\n\u001b[0;32m    798\u001b[0m     pvalue \u001b[38;5;241m=\u001b[39m stats\u001b[38;5;241m.\u001b[39mnorm\u001b[38;5;241m.\u001b[39mcdf(zstat)\n\u001b[0;32m    799\u001b[0m \u001b[38;5;28;01melse\u001b[39;00m:\n\u001b[1;32m--> 800\u001b[0m     \u001b[38;5;28;01mraise\u001b[39;00m \u001b[38;5;167;01mValueError\u001b[39;00m(\u001b[38;5;124m\"\u001b[39m\u001b[38;5;124minvalid alternative\u001b[39m\u001b[38;5;124m\"\u001b[39m)\n\u001b[0;32m    801\u001b[0m \u001b[38;5;28;01mreturn\u001b[39;00m zstat, pvalue\n",
      "\u001b[1;31mValueError\u001b[0m: invalid alternative"
     ]
    }
   ],
   "source": [
    "tokyo = table.query('City == \"Tokyo\"')\n",
    "x1 = np.sum(tokyo['cleanliness'] > 9) # 80\n",
    "n1 = 116\n",
    "p1 = 0.69\n",
    "\n",
    "osaka = table.query('City == \"Osaka\"')\n",
    "x2 = np.sum(osaka['cleanliness'] > 9) # 49\n",
    "n2 = 89\n",
    "p2 = 0.55\n",
    "\n",
    "count = np.array([x1,x2])\n",
    "nobs = np.array([n1,n2])\n",
    "\n",
    "proportions_ztest(count, nobs, value=0, alternative=\"less\")"
   ]
  }
 ],
 "metadata": {
  "kernelspec": {
   "display_name": "Python 3",
   "language": "python",
   "name": "python3"
  },
  "language_info": {
   "codemirror_mode": {
    "name": "ipython",
    "version": 3
   },
   "file_extension": ".py",
   "mimetype": "text/x-python",
   "name": "python",
   "nbconvert_exporter": "python",
   "pygments_lexer": "ipython3",
   "version": "3.12.4"
  }
 },
 "nbformat": 4,
 "nbformat_minor": 2
}
