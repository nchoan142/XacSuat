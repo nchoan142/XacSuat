{
 "cells": [
  {
   "cell_type": "code",
   "execution_count": 12,
   "metadata": {},
   "outputs": [],
   "source": [
    "import pandas as pd\n",
    "import scipy.stats as ss"
   ]
  },
  {
   "cell_type": "code",
   "execution_count": 13,
   "metadata": {},
   "outputs": [],
   "source": [
    "table = pd.read_csv(\"E:/XacSuatThongKe/DuLieuThucHanh/Du_lieu/hostel.csv\")"
   ]
  },
  {
   "cell_type": "markdown",
   "metadata": {},
   "source": [
    "a. Khách du lịch thường nghĩ rằng Tokyo là thủ đô nên giá nhà trọ sẽ cao hơn các\n",
    "\n",
    "thành phố khác. Nhận định này có đúng cho hai thành phố Tokyo và Kyoto\n",
    "\n",
    "tại mức ý nghĩa α = 5% không.\n"
   ]
  },
  {
   "cell_type": "markdown",
   "metadata": {},
   "source": [
    "mu1: Giá nhà trọ trung bình tại Tokyo\n",
    "\n",
    "mu2: Giá nhà trọ trung bình tại Kyoto\n",
    "\n",
    "Giả thuyết cần kiểm định là: mu1 - mu2 > 0\n",
    "\n",
    "H0: mu1 <= mu2\n",
    "\n",
    "H1: mu1 > mu2"
   ]
  },
  {
   "cell_type": "code",
   "execution_count": 14,
   "metadata": {},
   "outputs": [],
   "source": [
    "price_tokyo = table.query('City == \"Tokyo\"')['price_from']\n",
    "price_kyoto = table.query('City == \"Kyoto\"')['price_from']"
   ]
  },
  {
   "cell_type": "code",
   "execution_count": 15,
   "metadata": {},
   "outputs": [
    {
     "data": {
      "text/plain": [
       "TtestResult(statistic=np.float64(1.0493840858717811), pvalue=np.float64(0.14810063553206787), df=np.float64(115.02265442731779))"
      ]
     },
     "execution_count": 15,
     "metadata": {},
     "output_type": "execute_result"
    }
   ],
   "source": [
    "ss.ttest_ind(price_tokyo, price_kyoto, equal_var=False, alternative=\"greater\")"
   ]
  },
  {
   "cell_type": "markdown",
   "metadata": {},
   "source": [
    "p-value = 0.85 > alpha nên không bác bỏ H0\n",
    "\n",
    "Tại mức ý nghĩa 5%, không có đủ bằng chứng chứng minh giá nhà trọ trung bình tại Tokyo cao hơn Kyoto\n",
    "\n",
    "Hay là ta có cơ sở thống kê để cho rằng giá nhà trọ ở Tokyo không cao hơn Kyoto"
   ]
  },
  {
   "cell_type": "markdown",
   "metadata": {},
   "source": [
    "b. Kiểm định tại mức ý nghĩa 1% không có sự khác biệt trong trung bình điểm\n",
    "\n",
    "đánh giá về tiện ích (facilities) và trung bình điểm đánh giá về độ sạch sẽ\n",
    "\n",
    "(cleanliness)"
   ]
  },
  {
   "cell_type": "markdown",
   "metadata": {},
   "source": [
    "mu1: Trung bình điểm đánh giá tiện ích\n",
    "\n",
    "mu2: Trung bình điểm đánh giá độ sạch sẽ\n",
    "\n",
    "Giả thuyết cần kiểm định: mu1 - mu2 = 0\n",
    "\n",
    "H0: mu1 = mu2\n",
    "\n",
    "H1: mu1 != mu2"
   ]
  },
  {
   "cell_type": "code",
   "execution_count": 16,
   "metadata": {},
   "outputs": [
    {
     "data": {
      "text/plain": [
       "TtestResult(statistic=np.float64(-9.379956003538563), pvalue=np.float64(1.7664840199466876e-18), df=np.int64(297))"
      ]
     },
     "execution_count": 16,
     "metadata": {},
     "output_type": "execute_result"
    }
   ],
   "source": [
    "ss.ttest_rel(table['facilities'], table['cleanliness'], alternative=\"two-sided\")"
   ]
  },
  {
   "cell_type": "markdown",
   "metadata": {},
   "source": [
    "p-value = 1.76 * 10^-18 < alpha nên bác bỏ H0\n",
    "\n",
    "Tại mức ý nghĩa 1%, có đủ bằng chứng để chứng minh có sự khác biệt giữa trung bình điểm đanh giá tiện ích và độ sạch sẽ"
   ]
  },
  {
   "cell_type": "markdown",
   "metadata": {},
   "source": [
    "c. Khách hàng thường sẽ đánh giá cao các nhà trọ ở thủ đô Tokyo hơn so với các\n",
    "\n",
    "thành phố khác. Dữ liệu về điểm đánh giá (summary_score) giữa thành phố\n",
    "\n",
    "Tokyo và Osaka có ủng hộ nhận định này không? Kết luận đưa ra tại mức ý\n",
    "\n",
    "nghĩa α = 5%."
   ]
  },
  {
   "cell_type": "markdown",
   "metadata": {},
   "source": [
    "mu1: Điểm đánh giá trung bình của thành phố Tokyo\n",
    "\n",
    "mu2: Điểm đánh giá trung bình của thành phố Osaka\n",
    "\n",
    "Giả thuyết cần kiểm định: mu1 - mu2 > 0\n",
    "\n",
    "H0: mu1 <= mu2\n",
    "\n",
    "H1: mu1 > mu2"
   ]
  },
  {
   "cell_type": "code",
   "execution_count": 17,
   "metadata": {},
   "outputs": [],
   "source": [
    "score_tokyo = table.query('City == \"Tokyo\"')['summary_score']\n",
    "score_osaka = table.query('City == \"Osaka\"')['summary_score']"
   ]
  },
  {
   "cell_type": "code",
   "execution_count": 18,
   "metadata": {},
   "outputs": [
    {
     "data": {
      "text/plain": [
       "TtestResult(statistic=np.float64(0.9179886057315083), pvalue=np.float64(0.18008800111320855), df=np.float64(142.49663564093694))"
      ]
     },
     "execution_count": 18,
     "metadata": {},
     "output_type": "execute_result"
    }
   ],
   "source": [
    "ss.ttest_ind(score_tokyo, score_osaka, equal_var=False, alternative=\"greater\")"
   ]
  },
  {
   "cell_type": "markdown",
   "metadata": {},
   "source": [
    "p-value = 0.18 > alpha nên không bác bỏ H0\n",
    "\n",
    "Tại mức ý nghĩa 5%, không có đủ bằng chứng chứng minh điểm trung bình đánh giá ở Tokyo lớn hơn Osaka"
   ]
  },
  {
   "cell_type": "markdown",
   "metadata": {},
   "source": [
    "d. Osaka là một thành phố hiện đại và sôi động, còn Kyoto là một thành phố lịch\n",
    "\n",
    "sử và văn hóa. Khách du lịch cho rằng các nhà trọ ở Kyoto sẽ an toàn hơn và\n",
    "\n",
    "cũng có sự đồng đều về độ an toàn (security) hơn so với Osaka. Kiểm định\n",
    "\n",
    "lại những nhận định này tại mức ý nghĩa α = 5%."
   ]
  },
  {
   "cell_type": "markdown",
   "metadata": {},
   "source": [
    "mu1: Điểm đánh giá trung bình về độ an toàn của Kyoto\n",
    "\n",
    "mu2: Điểm đánh gái trung bình về độ an toàn của Osaka\n",
    "\n",
    "H0: mu1 >= mu2\n",
    "\n",
    "H1: mu1 < mu2"
   ]
  },
  {
   "cell_type": "code",
   "execution_count": 19,
   "metadata": {},
   "outputs": [],
   "source": [
    "security_score_kyoto = table.query('City == \"Kyoto\"')['security']\n",
    "security_score_osaka = table.query('City == \"Osaka\"')['security']"
   ]
  },
  {
   "cell_type": "code",
   "execution_count": 34,
   "metadata": {},
   "outputs": [
    {
     "data": {
      "text/plain": [
       "TtestResult(statistic=np.float64(1.5276998562148962), pvalue=np.float64(0.9355884643537153), df=np.float64(141.26494898833218))"
      ]
     },
     "execution_count": 34,
     "metadata": {},
     "output_type": "execute_result"
    }
   ],
   "source": [
    "ss.ttest_ind(security_score_kyoto, security_score_osaka, equal_var=False, alternative=\"less\")"
   ]
  },
  {
   "cell_type": "markdown",
   "metadata": {},
   "source": [
    "p-value = 0.93 > alpha nên không bác bỏ H0\n",
    "\n",
    "Tại mức ý nghĩa 5%, có đủ bằng chứng để chứng minh điểm trung bình độ an toàn của Kyoto tốt hơn và đồng đều hơn Osaka"
   ]
  },
  {
   "cell_type": "markdown",
   "metadata": {},
   "source": [
    "e. Tỷ lệ điểm đánh giá mức độ sạch sẽ (cleanliness) tại Tokyo trên 9 không thấp\n",
    "\n",
    "hơn tỷ lệ này ở Osaka. Kiểm định lại nhận định này tại mức ý nghĩa α = 5%"
   ]
  },
  {
   "cell_type": "markdown",
   "metadata": {},
   "source": [
    "p1: Tỷ lệ đánh giá mức độ sạch sẽ ở Tokyo\n",
    "\n",
    "p2: Tỷ lệ đánh giá mức độ sạch sẽ ở Osaka\n",
    "\n",
    "H0: p1 >= p2\n",
    "\n",
    "H1: p1 < p2"
   ]
  },
  {
   "cell_type": "code",
   "execution_count": 21,
   "metadata": {},
   "outputs": [],
   "source": [
    "from statsmodels.stats.proportion import proportions_ztest as pz\n",
    "import numpy as np"
   ]
  },
  {
   "cell_type": "code",
   "execution_count": 32,
   "metadata": {},
   "outputs": [
    {
     "name": "stdout",
     "output_type": "stream",
     "text": [
      "80\n",
      "116\n",
      "49\n",
      "89\n"
     ]
    },
    {
     "data": {
      "text/plain": [
       "(np.float64(2.043646243021458), np.float64(0.979505746289047))"
      ]
     },
     "execution_count": 32,
     "metadata": {},
     "output_type": "execute_result"
    }
   ],
   "source": [
    "tokyo = table.query('City == \"Tokyo\"')\n",
    "x1 = np.sum(tokyo['cleanliness'] > 9) # 80\n",
    "n1 = tokyo['cleanliness'].shape[0] # 116\n",
    "print(x1)\n",
    "print(n1)\n",
    "# p1 = 0.69\n",
    "\n",
    "osaka = table.query('City == \"Osaka\"')\n",
    "x2 = np.sum(osaka['cleanliness'] > 9) # 49\n",
    "n2 = osaka['cleanliness'].shape[0] # 89\n",
    "print(x2)\n",
    "print(n2)\n",
    "# p2 = 0.55\n",
    "\n",
    "count = np.array([x1,x2])\n",
    "nobs = np.array([n1,n2])\n",
    "\n",
    "pz(count, nobs, value=0, alternative=\"smaller\")"
   ]
  },
  {
   "cell_type": "markdown",
   "metadata": {},
   "source": [
    "p-value = 0.98 > alpha nên không bác bỏ H0\n",
    "Tại mức ý nghĩa 5%, có đủ bằng chứng chứng minh tỷ lệ mức độ sạch sẽ trên 9 của thành phố Tokyo không thấp hơn osaka"
   ]
  }
 ],
 "metadata": {
  "kernelspec": {
   "display_name": "Python 3",
   "language": "python",
   "name": "python3"
  },
  "language_info": {
   "codemirror_mode": {
    "name": "ipython",
    "version": 3
   },
   "file_extension": ".py",
   "mimetype": "text/x-python",
   "name": "python",
   "nbconvert_exporter": "python",
   "pygments_lexer": "ipython3",
   "version": "3.12.4"
  }
 },
 "nbformat": 4,
 "nbformat_minor": 2
}
