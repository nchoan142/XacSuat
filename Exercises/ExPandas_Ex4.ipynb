{
 "cells": [
  {
   "cell_type": "code",
   "execution_count": 1,
   "metadata": {},
   "outputs": [],
   "source": [
    "import pandas as pd"
   ]
  },
  {
   "cell_type": "code",
   "execution_count": 2,
   "metadata": {},
   "outputs": [
    {
     "name": "stdout",
     "output_type": "stream",
     "text": [
      "     Unnamed: 0 GioiTinh  Lop  Tuoi      NoiO  HocLuc  TheThao  HinhThuc\n",
      "0             1      Nam    5    11    NgoaiO       1        2         4\n",
      "1             2      Nam    5    10    NgoaiO       2        1         4\n",
      "2             3       Nu    5    11    NgoaiO       4        3         1\n",
      "3             4       Nu    5    11    NgoaiO       2        3         4\n",
      "4             5       Nu    5    10    NgoaiO       4        2         1\n",
      "..          ...      ...  ...   ...       ...     ...      ...       ...\n",
      "470         471      Nam    6    11  NoiThanh       4        1         2\n",
      "471         472      Nam    6    11  NoiThanh       4        1         2\n",
      "472         473      Nam    6    11  NoiThanh       4        2         1\n",
      "473         474      Nam    6    11  NoiThanh       4        1         3\n",
      "474         475      Nam    6    11  NoiThanh       4        1         2\n",
      "\n",
      "[475 rows x 8 columns]\n"
     ]
    }
   ],
   "source": [
    "table = pd.read_csv('E:/XacSuatThongKe/DuLieuThucHanh/Du_lieu/HocSinh.csv')\n",
    "print(table)"
   ]
  },
  {
   "cell_type": "markdown",
   "metadata": {},
   "source": [
    "Lấy ra dữ liệu ở cột thứ 3 (Tuoi)"
   ]
  },
  {
   "cell_type": "code",
   "execution_count": 3,
   "metadata": {},
   "outputs": [
    {
     "name": "stdout",
     "output_type": "stream",
     "text": [
      "0      11\n",
      "1      10\n",
      "2      11\n",
      "3      11\n",
      "4      10\n",
      "       ..\n",
      "470    11\n",
      "471    11\n",
      "472    11\n",
      "473    11\n",
      "474    11\n",
      "Name: Tuoi, Length: 475, dtype: int64\n"
     ]
    }
   ],
   "source": [
    "data_column_tuoi = table['Tuoi']\n",
    "print(data_column_tuoi)"
   ]
  },
  {
   "cell_type": "markdown",
   "metadata": {},
   "source": [
    "Lấy ra toàn bộ dữ liệu ở dòng thứ 10"
   ]
  },
  {
   "cell_type": "code",
   "execution_count": 4,
   "metadata": {},
   "outputs": [
    {
     "name": "stdout",
     "output_type": "stream",
     "text": [
      "Unnamed: 0        10\n",
      "GioiTinh          Nu\n",
      "Lop                5\n",
      "Tuoi              10\n",
      "NoiO          NgoaiO\n",
      "HocLuc             4\n",
      "TheThao            3\n",
      "HinhThuc           2\n",
      "Name: 9, dtype: object\n"
     ]
    }
   ],
   "source": [
    "data_10th_row = table.iloc[10-1, :]\n",
    "print(data_10th_row)"
   ]
  },
  {
   "cell_type": "markdown",
   "metadata": {},
   "source": [
    "Tính số học sinh nữ, nam."
   ]
  },
  {
   "cell_type": "code",
   "execution_count": 5,
   "metadata": {},
   "outputs": [
    {
     "name": "stdout",
     "output_type": "stream",
     "text": [
      "GioiTinh\n",
      "Nu     248\n",
      "Nam    227\n",
      "Name: count, dtype: int64\n"
     ]
    }
   ],
   "source": [
    "so_luong_hoc_sinh = table.GioiTinh.value_counts()\n",
    "print(so_luong_hoc_sinh)"
   ]
  },
  {
   "cell_type": "markdown",
   "metadata": {},
   "source": [
    "Tính tỷ lệ học sinh có mức độ yêu thích thể thao là 4. Tính tỷ lệ này trong nhóm\n",
    "\n",
    "học sinh nam, trong nhóm học sinh nữ."
   ]
  },
  {
   "cell_type": "code",
   "execution_count": 6,
   "metadata": {},
   "outputs": [
    {
     "name": "stdout",
     "output_type": "stream",
     "text": [
      "GioiTinh\n",
      "Nam    0.018947\n",
      "Nu     0.077895\n",
      "Name: 4, dtype: float64\n"
     ]
    }
   ],
   "source": [
    "table_the_thao_nam_nu = pd.crosstab(table.GioiTinh, table.TheThao, normalize=True)\n",
    "print(table_the_thao_nam_nu[4])"
   ]
  }
 ],
 "metadata": {
  "kernelspec": {
   "display_name": "Python 3",
   "language": "python",
   "name": "python3"
  },
  "language_info": {
   "codemirror_mode": {
    "name": "ipython",
    "version": 3
   },
   "file_extension": ".py",
   "mimetype": "text/x-python",
   "name": "python",
   "nbconvert_exporter": "python",
   "pygments_lexer": "ipython3",
   "version": "3.12.4"
  }
 },
 "nbformat": 4,
 "nbformat_minor": 2
}
