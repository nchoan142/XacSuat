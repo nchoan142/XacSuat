{
 "cells": [
  {
   "cell_type": "code",
   "execution_count": 1,
   "metadata": {},
   "outputs": [],
   "source": [
    "import pandas as pd"
   ]
  },
  {
   "cell_type": "code",
   "execution_count": 2,
   "metadata": {},
   "outputs": [
    {
     "name": "stdout",
     "output_type": "stream",
     "text": [
      "    DiemThi\n",
      "0        61\n",
      "1        27\n",
      "2        26\n",
      "3        37\n",
      "4        30\n",
      "5        47\n",
      "6        87\n",
      "7        90\n",
      "8        63\n",
      "9        46\n",
      "10       67\n",
      "11       19\n",
      "12       81\n",
      "13       47\n",
      "14      100\n",
      "15       25\n",
      "16       45\n",
      "17       60\n",
      "18       65\n",
      "19       53\n",
      "20       35\n",
      "21       28\n",
      "22       80\n",
      "23       95\n",
      "24       57\n",
      "25       37\n",
      "26       45\n",
      "27       25\n",
      "28       48\n",
      "29       60\n",
      "30       48\n",
      "31       47\n",
      "32       30\n",
      "33       47\n",
      "34       60\n",
      "35       61\n",
      "36       55\n",
      "37       48\n",
      "38       60\n",
      "39       90\n"
     ]
    }
   ],
   "source": [
    "table = pd.read_csv('E:/XacSuatThongKe/DuLieuThucHanh/Du_lieu/DiemThi.csv')\n",
    "print(table)"
   ]
  },
  {
   "cell_type": "markdown",
   "metadata": {},
   "source": [
    "Hãy tính các số đo hướng tâm của tập dữ liệu: trung bình cộng, trung vị và\n",
    "\n",
    "mode. Nêu ý nghĩa của những giá trị này"
   ]
  },
  {
   "cell_type": "code",
   "execution_count": 18,
   "metadata": {},
   "outputs": [
    {
     "name": "stdout",
     "output_type": "stream",
     "text": [
      "Trung binh: \n",
      "DiemThi    53.3\n",
      "dtype: float64\n",
      "\n",
      "\n",
      "Trung vi: \n",
      "DiemThi    48.0\n",
      "dtype: float64\n",
      "\n",
      "\n",
      "Mode: \n",
      "   DiemThi\n",
      "0       47\n",
      "1       60\n"
     ]
    }
   ],
   "source": [
    "print(\"Trung binh: \")\n",
    "print(table.mean())\n",
    "print(\"\\n\")\n",
    "print(\"Trung vi: \")\n",
    "print(table.median())\n",
    "print(\"\\n\")\n",
    "print(\"Mode: \")\n",
    "print(table.mode())"
   ]
  },
  {
   "cell_type": "markdown",
   "metadata": {},
   "source": [
    "Tính các đại lượng mô tả độ phân bố của tập dữ liệu như: tứ phân vị, phân vị\n",
    "\n",
    "thứ 10, 60, 90 của tập dữ liệu. Nêu ý nghĩa của những giá trị này."
   ]
  },
  {
   "cell_type": "code",
   "execution_count": 19,
   "metadata": {},
   "outputs": [
    {
     "name": "stdout",
     "output_type": "stream",
     "text": [
      "Tu phan vi: \n",
      "          DiemThi\n",
      "count   40.000000\n",
      "mean    53.300000\n",
      "std     21.003296\n",
      "min     19.000000\n",
      "25%     37.000000\n",
      "50%     48.000000\n",
      "75%     61.500000\n",
      "max    100.000000\n",
      "\n",
      "\n",
      "Phan vi 10th, 60th, 90th: \n",
      "     DiemThi\n",
      "0.1     26.9\n",
      "0.6     58.2\n",
      "0.9     87.3\n"
     ]
    }
   ],
   "source": [
    "print(\"Tu phan vi: \")\n",
    "print(table.describe())\n",
    "print(\"\\n\")\n",
    "print(\"Phan vi 10th, 60th, 90th: \")\n",
    "print(table.quantile([0.1, 0.6, 0.9]))"
   ]
  },
  {
   "cell_type": "markdown",
   "metadata": {},
   "source": [
    "Tính các đại lượng mô tả độ phân tán của tập dữ liệu: khoảng biến thiên, độ trải\n",
    "\n",
    "giữa, phương sai và độ lệch chuẩn"
   ]
  },
  {
   "cell_type": "code",
   "execution_count": 20,
   "metadata": {},
   "outputs": [
    {
     "name": "stdout",
     "output_type": "stream",
     "text": [
      "Khoang bien thien: \n",
      "DiemThi    81\n",
      "dtype: int64\n",
      "\n",
      "\n",
      "Do trai giua: \n",
      "DiemThi    24.5\n",
      "dtype: float64\n",
      "\n",
      "\n",
      "Phuong sai: \n",
      "DiemThi    441.138462\n",
      "dtype: float64\n",
      "\n",
      "\n",
      "Do lech chuan: \n",
      "DiemThi    21.003296\n",
      "dtype: float64\n"
     ]
    }
   ],
   "source": [
    "print(\"Khoang bien thien: \")\n",
    "print(table.max() - table.min())\n",
    "print(\"\\n\")\n",
    "print(\"Do trai giua: \")\n",
    "print(table.quantile(0.75) - table.quantile(0.25))\n",
    "print(\"\\n\")\n",
    "print(\"Phuong sai: \")\n",
    "print(table.var())\n",
    "print(\"\\n\")\n",
    "print(\"Do lech chuan: \")\n",
    "print(table.std())"
   ]
  }
 ],
 "metadata": {
  "kernelspec": {
   "display_name": "Python 3",
   "language": "python",
   "name": "python3"
  },
  "language_info": {
   "codemirror_mode": {
    "name": "ipython",
    "version": 3
   },
   "file_extension": ".py",
   "mimetype": "text/x-python",
   "name": "python",
   "nbconvert_exporter": "python",
   "pygments_lexer": "ipython3",
   "version": "3.12.4"
  }
 },
 "nbformat": 4,
 "nbformat_minor": 2
}
