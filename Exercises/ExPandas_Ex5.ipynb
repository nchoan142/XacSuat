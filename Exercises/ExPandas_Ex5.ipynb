{
 "cells": [
  {
   "cell_type": "code",
   "execution_count": 14,
   "metadata": {},
   "outputs": [],
   "source": [
    "import pandas as pd"
   ]
  },
  {
   "cell_type": "code",
   "execution_count": 24,
   "metadata": {},
   "outputs": [
    {
     "name": "stdout",
     "output_type": "stream",
     "text": [
      "    STT GioiTinh  Tuoi   KhuVuc  ThuNhap\n",
      "2     3       Nu    32  MienNui       25\n",
      "7     8       Nu    25  MienNui       22\n",
      "10   11      Nam    43  MienNui       37\n",
      "15   16      Nam    39  MienNui       33\n",
      "16   17      Nam    55  MienNui       31\n",
      "20   21      Nam    51  MienNui       20\n",
      "24   25       Nu    24  MienNui       32\n",
      "28   29      Nam    37  MienNui       30\n",
      "32   33       Nu    51  MienNui       25\n",
      "36   37       Nu    24  MienNui       20\n",
      "41   42      Nam    31  MienNui      100\n",
      "45   46       Nu    65  MienNui       30\n",
      "48   49      Nam    51  MienNui       42\n",
      "52   53       Nu    24  MienNui       78\n",
      "57   58      Nam    38  MienNui       50\n",
      "58   59      Nam    38  MienNui       30\n",
      "63   64       Nu    34  MienNui       42\n",
      "67   68      Nam    38  MienNui       78\n",
      "70   71       Nu    51  MienNui       20\n",
      "75   76      Nam    47  MienNui       70\n",
      "80   81       Nu    38  MienNui       30\n",
      "81   82      Nam    65  MienNui       70\n",
      "86   87      Nam    36  MienNui       20\n",
      "89   90       Nu    38  MienNui       30\n",
      "94   95       Nu    70  MienNui       48\n",
      "99  100       Nu    75  MienNui       48\n"
     ]
    }
   ],
   "source": [
    "table = pd.read_csv('E:/XacSuatThongKe/DuLieuThucHanh/Du_lieu/SoLieu.csv')\n",
    "# print(table)\n",
    "table.loc[table[\"KhuVuc\"] == \"MienNui\"]\n",
    "# result = table.query('KhuVuc == \"MienNui\"')\n",
    "# print(result)"
   ]
  },
  {
   "cell_type": "markdown",
   "metadata": {},
   "source": [
    " Trong nhóm được điều tra có bao nhiêu nam và có bao nhiêu người sống ở thành\n",
    "phố"
   ]
  },
  {
   "cell_type": "code",
   "execution_count": 16,
   "metadata": {},
   "outputs": [
    {
     "name": "stdout",
     "output_type": "stream",
     "text": [
      "KhuVuc    HaiDao  MienNui  NongThon  ThanhPho\n",
      "GioiTinh                                     \n",
      "Nam            6       13        10        26\n",
      "Nu             6       13        10        16\n",
      "GioiTinh\n",
      "Nam    26\n",
      "Name: ThanhPho, dtype: int64\n"
     ]
    }
   ],
   "source": [
    "tan_so_GioiTinh_KhuVuc = pd.crosstab(table.GioiTinh, table.KhuVuc)\n",
    "print(tan_so_GioiTinh_KhuVuc)\n",
    "\n",
    "so_luong_nam = tan_so_GioiTinh_KhuVuc.query('GioiTinh == \"Nam\"')\n",
    "so_luong_nam_thanh_pho = so_luong_nam[\"ThanhPho\"]\n",
    "print(so_luong_nam_thanh_pho)"
   ]
  },
  {
   "cell_type": "markdown",
   "metadata": {},
   "source": [
    "Tính số nam sống ở hải đảo và nữ sống ở nông thôn trong nhóm những người\n",
    "được điều tra."
   ]
  },
  {
   "cell_type": "code",
   "execution_count": 17,
   "metadata": {},
   "outputs": [
    {
     "name": "stdout",
     "output_type": "stream",
     "text": [
      "KhuVuc    HaiDao  MienNui  NongThon  ThanhPho\n",
      "GioiTinh                                     \n",
      "Nam            6       13        10        26\n",
      "Nu             6       13        10        16\n",
      "GioiTinh\n",
      "Nam    6\n",
      "Name: HaiDao, dtype: int64\n",
      "GioiTinh\n",
      "Nu    10\n",
      "Name: NongThon, dtype: int64\n"
     ]
    }
   ],
   "source": [
    "tan_so_GioiTinh_KhuVuc = pd.crosstab(table.GioiTinh, table.KhuVuc)\n",
    "print(tan_so_GioiTinh_KhuVuc)\n",
    "\n",
    "so_luong_nam = tan_so_GioiTinh_KhuVuc.query('GioiTinh == \"Nam\"')\n",
    "so_luong_nam_Hai_Dao = so_luong_nam[\"HaiDao\"]\n",
    "print(so_luong_nam_Hai_Dao)\n",
    "\n",
    "so_luong_nu = tan_so_GioiTinh_KhuVuc.query('GioiTinh == \"Nu\"')\n",
    "so_luong_nu_Nong_Thon = so_luong_nu[\"NongThon\"]\n",
    "print(so_luong_nu_Nong_Thon)"
   ]
  },
  {
   "cell_type": "markdown",
   "metadata": {},
   "source": [
    "Trong số nữ được điều tra, hãy tính tỉ lệ nữ sống ở thành phố và miền núi."
   ]
  },
  {
   "cell_type": "code",
   "execution_count": 18,
   "metadata": {},
   "outputs": [
    {
     "name": "stdout",
     "output_type": "stream",
     "text": [
      "KhuVuc      HaiDao   MienNui  NongThon  ThanhPho\n",
      "GioiTinh                                        \n",
      "Nam       0.109091  0.236364  0.181818  0.472727\n",
      "Nu        0.133333  0.288889  0.222222  0.355556\n",
      "GioiTinh\n",
      "Nu    0.355556\n",
      "Name: ThanhPho, dtype: float64\n",
      "GioiTinh\n",
      "Nu    0.288889\n",
      "Name: MienNui, dtype: float64\n"
     ]
    }
   ],
   "source": [
    "tan_suat_GioiTinh_KhuVuc = pd.crosstab(table.GioiTinh, table.KhuVuc, normalize=\"index\")\n",
    "print(tan_suat_GioiTinh_KhuVuc)\n",
    "\n",
    "ti_le_nu = tan_suat_GioiTinh_KhuVuc.query('GioiTinh == \"Nu\"')\n",
    "so_luong_nu_ThanhPho = ti_le_nu[\"ThanhPho\"]\n",
    "print(so_luong_nu_ThanhPho)\n",
    "\n",
    "so_luong_nu_MienNui = ti_le_nu[\"MienNui\"]\n",
    "print(so_luong_nu_MienNui)"
   ]
  },
  {
   "cell_type": "markdown",
   "metadata": {},
   "source": [
    "Tiến hành phân tổ cột dữ liệu về tuổi thành các tổ với các điểm chia là 20, 30, 40, 50, 60, 70, 80\n",
    "\n",
    "và tính tỉ lệ những người được điều tra có độ tuổi không vượt quá 50"
   ]
  },
  {
   "cell_type": "code",
   "execution_count": 19,
   "metadata": {},
   "outputs": [
    {
     "name": "stdout",
     "output_type": "stream",
     "text": [
      "Tuoi\n",
      "(30.0, 40.0]      41\n",
      "(19.999, 30.0]    20\n",
      "(60.0, 70.0]      13\n",
      "(40.0, 50.0]      12\n",
      "(50.0, 60.0]      12\n",
      "(70.0, 80.0]       2\n",
      "Name: count, dtype: int64\n",
      "0.73\n"
     ]
    }
   ],
   "source": [
    "# table.Tuoi.min() # 24\n",
    "# table.Tuoi.max() # 78\n",
    "cut_Tuoi = pd.cut(table.Tuoi, bins = [20, 30, 40, 50, 60, 70, 80], include_lowest=True)\n",
    "ti_le_tuoi = cut_Tuoi.value_counts()\n",
    "print(ti_le_tuoi)\n",
    "\n",
    "# table.query() trả về 1 bảng dữ liệu\n",
    "tuoi_nho_hon_50 = table.query('Tuoi < 50').shape[0] # lấy số lượng người tuổi < 50\n",
    "tong_so_nguoi = table.shape[0]\n",
    "print(tuoi_nho_hon_50/tong_so_nguoi)"
   ]
  },
  {
   "cell_type": "markdown",
   "metadata": {},
   "source": [
    " Tiến hành phân tổ cột dữ liệu về thu nhập thành các tổ với các điểm chia là\n",
    " \n",
    "20, 30, 40, 50, 60, 70, 80, 90, 100 và cho nhận xét"
   ]
  },
  {
   "cell_type": "code",
   "execution_count": 20,
   "metadata": {},
   "outputs": [
    {
     "name": "stdout",
     "output_type": "stream",
     "text": [
      "Tuoi\n",
      "(30, 40]     41\n",
      "(20, 30]     20\n",
      "(60, 70]     13\n",
      "(40, 50]     12\n",
      "(50, 60]     12\n",
      "(70, 80]      2\n",
      "(80, 90]      0\n",
      "(90, 100]     0\n",
      "Name: count, dtype: int64\n"
     ]
    }
   ],
   "source": [
    "cut_Tuoi = pd.cut(table.Tuoi, bins = [20, 30, 40, 50, 60, 70, 80, 90, 100])\n",
    "tan_so_tuoi = cut_Tuoi.value_counts()\n",
    "print(tan_so_tuoi)"
   ]
  },
  {
   "cell_type": "code",
   "execution_count": 21,
   "metadata": {},
   "outputs": [
    {
     "data": {
      "image/png": "[encoded data removed]",
      "text/plain": [
       "<Figure size 640x480 with 1 Axes>"
      ]
     },
     "metadata": {},
     "output_type": "display_data"
    }
   ],
   "source": [
    "table.ThuNhap.plot(kind='hist', title='Biểu đồ phân phối tần số cho Thu nhập');"
   ]
  }
 ],
 "metadata": {
  "kernelspec": {
   "display_name": "Python 3",
   "language": "python",
   "name": "python3"
  },
  "language_info": {
   "codemirror_mode": {
    "name": "ipython",
    "version": 3
   },
   "file_extension": ".py",
   "mimetype": "text/x-python",
   "name": "python",
   "nbconvert_exporter": "python",
   "pygments_lexer": "ipython3",
   "version": "3.12.4"
  }
 },
 "nbformat": 4,
 "nbformat_minor": 2
}
