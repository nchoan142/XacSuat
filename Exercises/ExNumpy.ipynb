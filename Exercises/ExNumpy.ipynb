{
 "cells": [
  {
   "cell_type": "code",
   "execution_count": 2,
   "metadata": {},
   "outputs": [],
   "source": [
    "import numpy as np"
   ]
  },
  {
   "cell_type": "markdown",
   "metadata": {},
   "source": [
    "Bài 1:"
   ]
  },
  {
   "cell_type": "markdown",
   "metadata": {},
   "source": [
    "Nhập dữ liệu thành một vec tơ có tên tien_dt"
   ]
  },
  {
   "cell_type": "code",
   "execution_count": 3,
   "metadata": {},
   "outputs": [
    {
     "name": "stdout",
     "output_type": "stream",
     "text": [
      "[198 185 223 221 207 203 180 195 222 177 214 216]\n"
     ]
    }
   ],
   "source": [
    "array_tien_dt = [198, 185, 223, 221, 207, 203, 180, 195, 222, 177, 214, 216]\n",
    "tien_dt= np.array(array_tien_dt)\n",
    "print(tien_dt)"
   ]
  },
  {
   "cell_type": "markdown",
   "metadata": {},
   "source": [
    "Tính tổng số tiền bạn phải trả cho phí điện thoại trong năm đó"
   ]
  },
  {
   "cell_type": "code",
   "execution_count": 4,
   "metadata": {},
   "outputs": [
    {
     "name": "stdout",
     "output_type": "stream",
     "text": [
      "2441\n"
     ]
    }
   ],
   "source": [
    "tong_tien = sum(tien_dt)\n",
    "print(tong_tien)"
   ]
  },
  {
   "cell_type": "markdown",
   "metadata": {},
   "source": [
    "Cho biết tháng nào có số tiền ít (nhiều) nhất và số tiền là bao nhiêu?"
   ]
  },
  {
   "cell_type": "code",
   "execution_count": 11,
   "metadata": {},
   "outputs": [
    {
     "name": "stdout",
     "output_type": "stream",
     "text": [
      "9\n",
      "177\n",
      "2\n",
      "223\n"
     ]
    }
   ],
   "source": [
    "print(np.argmin(tien_dt))\n",
    "print(np.min(tien_dt))\n",
    "print(np.argmax(tien_dt))\n",
    "print(np.max(tien_dt))"
   ]
  },
  {
   "cell_type": "markdown",
   "metadata": {},
   "source": [
    "Tính xem có bao nhiêu tháng mà tiền điện thoại không quá 190 nghìn."
   ]
  },
  {
   "cell_type": "code",
   "execution_count": 13,
   "metadata": {},
   "outputs": [
    {
     "name": "stdout",
     "output_type": "stream",
     "text": [
      "2\n",
      "7\n",
      "10\n"
     ]
    }
   ],
   "source": [
    "for i in range (len(tien_dt)):\n",
    "    if(tien_dt[i] <= 190):\n",
    "        print(i+1)"
   ]
  },
  {
   "cell_type": "markdown",
   "metadata": {},
   "source": [
    "Tính xem có bao nhiêu tháng mà tiền điện thoại dao động trong khoảng\n",
    "[190, 210] nghìn"
   ]
  },
  {
   "cell_type": "code",
   "execution_count": 14,
   "metadata": {},
   "outputs": [
    {
     "name": "stdout",
     "output_type": "stream",
     "text": [
      "1\n",
      "5\n",
      "6\n",
      "8\n"
     ]
    }
   ],
   "source": [
    "for i in range (len(tien_dt)):\n",
    "    if(tien_dt[i] >= 190):\n",
    "        if(tien_dt[i] <= 210):\n",
    "            print(i+1)"
   ]
  },
  {
   "cell_type": "markdown",
   "metadata": {},
   "source": [
    "Tính số tiền điện thoại trung bình một tháng"
   ]
  },
  {
   "cell_type": "code",
   "execution_count": 16,
   "metadata": {},
   "outputs": [
    {
     "name": "stdout",
     "output_type": "stream",
     "text": [
      "203.41666666666666\n"
     ]
    }
   ],
   "source": [
    "print(np.mean(tien_dt))"
   ]
  },
  {
   "cell_type": "markdown",
   "metadata": {},
   "source": [
    "Bài 2:"
   ]
  },
  {
   "cell_type": "markdown",
   "metadata": {},
   "source": [
    "Sửa tiền điện thoại tháng 2 thành 175."
   ]
  },
  {
   "cell_type": "code",
   "execution_count": 4,
   "metadata": {},
   "outputs": [
    {
     "name": "stdout",
     "output_type": "stream",
     "text": [
      "[198 175 223 221 207 203 180 195 222 177 214 216]\n"
     ]
    }
   ],
   "source": [
    "tien_dt[2-1] = 175\n",
    "print(tien_dt)"
   ]
  },
  {
   "cell_type": "markdown",
   "metadata": {},
   "source": [
    "Nhập thêm vào dãy trên tiền điện thoại của 3 tháng tiếp theo nhưng bạn quên\n",
    "\n",
    "mất số tiền tháng thứ 13, biết tháng thứ 14, 15 số tiền lần lượt là 201, 185.\n",
    "\n",
    "Sau đó tính lại số tiền trung bình bạn phải trả mỗi tháng."
   ]
  },
  {
   "cell_type": "code",
   "execution_count": 18,
   "metadata": {},
   "outputs": [
    {
     "name": "stdout",
     "output_type": "stream",
     "text": [
      "201.21428571428572\n"
     ]
    }
   ],
   "source": [
    "# append(ten_mang, gia_tri_muon_them (có thể là mảng)) trả về 1 mảng mới\n",
    "# gồm các phần tử ở ten_mang và gia_tri_muon_them\n",
    "tien_dt_new = np.append(tien_dt, [None, 201, 185])\n",
    "\n",
    "# Cách 1\n",
    "tong_tien_new = 0\n",
    "thang_phai_dong_tien = 0\n",
    "for i in range (len(tien_dt_new)):\n",
    "    if(tien_dt_new[i] != None):\n",
    "        tong_tien_new += tien_dt_new[i]\n",
    "        thang_phai_dong_tien += 1\n",
    "print(tong_tien_new/thang_phai_dong_tien)\n",
    "\n",
    "# Cách 2\n",
    "tien_dt_new_no_none = np.delete(tien_dt_new, np.where(tien_dt_new==None))\n",
    "print(np.mean(tien_dt_new_no_none))"
   ]
  }
 ],
 "metadata": {
  "kernelspec": {
   "display_name": "Python 3",
   "language": "python",
   "name": "python3"
  },
  "language_info": {
   "codemirror_mode": {
    "name": "ipython",
    "version": 3
   },
   "file_extension": ".py",
   "mimetype": "text/x-python",
   "name": "python",
   "nbconvert_exporter": "python",
   "pygments_lexer": "ipython3",
   "version": "3.12.4"
  }
 },
 "nbformat": 4,
 "nbformat_minor": 2
}
