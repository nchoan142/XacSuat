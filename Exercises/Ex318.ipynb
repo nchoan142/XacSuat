{
 "cells": [
  {
   "cell_type": "code",
   "execution_count": 2,
   "metadata": {},
   "outputs": [],
   "source": [
    "import pandas as pd\n",
    "import numpy as np\n",
    "import scipy.stats as ss\n",
    "import statsmodels.api as sm"
   ]
  },
  {
   "cell_type": "code",
   "execution_count": 4,
   "metadata": {},
   "outputs": [],
   "source": [
    "table = pd.read_csv(\"E:/XacSuatThongKe/DuLieuThucHanh/Du_lieu/hostel.csv\")"
   ]
  },
  {
   "cell_type": "markdown",
   "metadata": {},
   "source": [
    "##### **a. Viết mô hình hồi quy tuyến tính tổng thể biểu diễn valueformoney (Y) theo atmosphere (X)**\n",
    "---"
   ]
  },
  {
   "cell_type": "code",
   "execution_count": 10,
   "metadata": {},
   "outputs": [
    {
     "data": {
      "text/html": [
       "<table class=\"simpletable\">\n",
       "<caption>OLS Regression Results</caption>\n",
       "<tr>\n",
       "  <th>Dep. Variable:</th>      <td>valueformoney</td>  <th>  R-squared:         </th> <td>   0.566</td>\n",
       "</tr>\n",
       "<tr>\n",
       "  <th>Model:</th>                   <td>OLS</td>       <th>  Adj. R-squared:    </th> <td>   0.565</td>\n",
       "</tr>\n",
       "<tr>\n",
       "  <th>Method:</th>             <td>Least Squares</td>  <th>  F-statistic:       </th> <td>   386.1</td>\n",
       "</tr>\n",
       "<tr>\n",
       "  <th>Date:</th>             <td>Thu, 03 Oct 2024</td> <th>  Prob (F-statistic):</th> <td>1.34e-55</td>\n",
       "</tr>\n",
       "<tr>\n",
       "  <th>Time:</th>                 <td>23:00:19</td>     <th>  Log-Likelihood:    </th> <td> -300.73</td>\n",
       "</tr>\n",
       "<tr>\n",
       "  <th>No. Observations:</th>      <td>   298</td>      <th>  AIC:               </th> <td>   605.5</td>\n",
       "</tr>\n",
       "<tr>\n",
       "  <th>Df Residuals:</th>          <td>   296</td>      <th>  BIC:               </th> <td>   612.9</td>\n",
       "</tr>\n",
       "<tr>\n",
       "  <th>Df Model:</th>              <td>     1</td>      <th>                     </th>     <td> </td>   \n",
       "</tr>\n",
       "<tr>\n",
       "  <th>Covariance Type:</th>      <td>nonrobust</td>    <th>                     </th>     <td> </td>   \n",
       "</tr>\n",
       "</table>\n",
       "<table class=\"simpletable\">\n",
       "<tr>\n",
       "       <td></td>         <th>coef</th>     <th>std err</th>      <th>t</th>      <th>P>|t|</th>  <th>[0.025</th>    <th>0.975]</th>  \n",
       "</tr>\n",
       "<tr>\n",
       "  <th>const</th>      <td>    3.8790</td> <td>    0.257</td> <td>   15.099</td> <td> 0.000</td> <td>    3.373</td> <td>    4.385</td>\n",
       "</tr>\n",
       "<tr>\n",
       "  <th>atmosphere</th> <td>    0.5995</td> <td>    0.031</td> <td>   19.650</td> <td> 0.000</td> <td>    0.539</td> <td>    0.659</td>\n",
       "</tr>\n",
       "</table>\n",
       "<table class=\"simpletable\">\n",
       "<tr>\n",
       "  <th>Omnibus:</th>       <td>66.955</td> <th>  Durbin-Watson:     </th> <td>   2.013</td>\n",
       "</tr>\n",
       "<tr>\n",
       "  <th>Prob(Omnibus):</th> <td> 0.000</td> <th>  Jarque-Bera (JB):  </th> <td> 435.745</td>\n",
       "</tr>\n",
       "<tr>\n",
       "  <th>Skew:</th>          <td>-0.714</td> <th>  Prob(JB):          </th> <td>2.39e-95</td>\n",
       "</tr>\n",
       "<tr>\n",
       "  <th>Kurtosis:</th>      <td> 8.749</td> <th>  Cond. No.          </th> <td>    56.8</td>\n",
       "</tr>\n",
       "</table><br/><br/>Notes:<br/>[1] Standard Errors assume that the covariance matrix of the errors is correctly specified."
      ],
      "text/latex": [
       "\\begin{center}\n",
       "\\begin{tabular}{lclc}\n",
       "\\toprule\n",
       "\\textbf{Dep. Variable:}    &  valueformoney   & \\textbf{  R-squared:         } &     0.566   \\\\\n",
       "\\textbf{Model:}            &       OLS        & \\textbf{  Adj. R-squared:    } &     0.565   \\\\\n",
       "\\textbf{Method:}           &  Least Squares   & \\textbf{  F-statistic:       } &     386.1   \\\\\n",
       "\\textbf{Date:}             & Thu, 03 Oct 2024 & \\textbf{  Prob (F-statistic):} &  1.34e-55   \\\\\n",
       "\\textbf{Time:}             &     23:00:19     & \\textbf{  Log-Likelihood:    } &   -300.73   \\\\\n",
       "\\textbf{No. Observations:} &         298      & \\textbf{  AIC:               } &     605.5   \\\\\n",
       "\\textbf{Df Residuals:}     &         296      & \\textbf{  BIC:               } &     612.9   \\\\\n",
       "\\textbf{Df Model:}         &           1      & \\textbf{                     } &             \\\\\n",
       "\\textbf{Covariance Type:}  &    nonrobust     & \\textbf{                     } &             \\\\\n",
       "\\bottomrule\n",
       "\\end{tabular}\n",
       "\\begin{tabular}{lcccccc}\n",
       "                    & \\textbf{coef} & \\textbf{std err} & \\textbf{t} & \\textbf{P$> |$t$|$} & \\textbf{[0.025} & \\textbf{0.975]}  \\\\\n",
       "\\midrule\n",
       "\\textbf{const}      &       3.8790  &        0.257     &    15.099  &         0.000        &        3.373    &        4.385     \\\\\n",
       "\\textbf{atmosphere} &       0.5995  &        0.031     &    19.650  &         0.000        &        0.539    &        0.659     \\\\\n",
       "\\bottomrule\n",
       "\\end{tabular}\n",
       "\\begin{tabular}{lclc}\n",
       "\\textbf{Omnibus:}       & 66.955 & \\textbf{  Durbin-Watson:     } &    2.013  \\\\\n",
       "\\textbf{Prob(Omnibus):} &  0.000 & \\textbf{  Jarque-Bera (JB):  } &  435.745  \\\\\n",
       "\\textbf{Skew:}          & -0.714 & \\textbf{  Prob(JB):          } & 2.39e-95  \\\\\n",
       "\\textbf{Kurtosis:}      &  8.749 & \\textbf{  Cond. No.          } &     56.8  \\\\\n",
       "\\bottomrule\n",
       "\\end{tabular}\n",
       "%\\caption{OLS Regression Results}\n",
       "\\end{center}\n",
       "\n",
       "Notes: \\newline\n",
       " [1] Standard Errors assume that the covariance matrix of the errors is correctly specified."
      ],
      "text/plain": [
       "<class 'statsmodels.iolib.summary.Summary'>\n",
       "\"\"\"\n",
       "                            OLS Regression Results                            \n",
       "==============================================================================\n",
       "Dep. Variable:          valueformoney   R-squared:                       0.566\n",
       "Model:                            OLS   Adj. R-squared:                  0.565\n",
       "Method:                 Least Squares   F-statistic:                     386.1\n",
       "Date:                Thu, 03 Oct 2024   Prob (F-statistic):           1.34e-55\n",
       "Time:                        23:00:19   Log-Likelihood:                -300.73\n",
       "No. Observations:                 298   AIC:                             605.5\n",
       "Df Residuals:                     296   BIC:                             612.9\n",
       "Df Model:                           1                                         \n",
       "Covariance Type:            nonrobust                                         \n",
       "==============================================================================\n",
       "                 coef    std err          t      P>|t|      [0.025      0.975]\n",
       "------------------------------------------------------------------------------\n",
       "const          3.8790      0.257     15.099      0.000       3.373       4.385\n",
       "atmosphere     0.5995      0.031     19.650      0.000       0.539       0.659\n",
       "==============================================================================\n",
       "Omnibus:                       66.955   Durbin-Watson:                   2.013\n",
       "Prob(Omnibus):                  0.000   Jarque-Bera (JB):              435.745\n",
       "Skew:                          -0.714   Prob(JB):                     2.39e-95\n",
       "Kurtosis:                       8.749   Cond. No.                         56.8\n",
       "==============================================================================\n",
       "\n",
       "Notes:\n",
       "[1] Standard Errors assume that the covariance matrix of the errors is correctly specified.\n",
       "\"\"\""
      ]
     },
     "execution_count": 10,
     "metadata": {},
     "output_type": "execute_result"
    }
   ],
   "source": [
    "atmosphere = sm.add_constant(table.atmosphere)\n",
    "model = sm.OLS(table.valueformoney, atmosphere).fit()\n",
    "model.summary()"
   ]
  },
  {
   "cell_type": "markdown",
   "metadata": {},
   "source": [
    "##### Mô hình hồi quy:  $$y = 3.8790 + 0.5995*x + \\varepsilon$$\n",
    "---"
   ]
  },
  {
   "cell_type": "markdown",
   "metadata": {},
   "source": [
    "##### **b. Ước lượng mô hình hồi quy câu (a) (mô hình hồi quy mẫu) và nêu ý nghĩa của hệ số góc**\n",
    "\n",
    "$\\beta_1 = 0.5995$ - Ý nghĩa: Khi điểm đánh giá cho atmosphere tăng thêm 1 điểm thì trung bình cho valueformoney tăng thêm 0.5995 điểm\n",
    "\n",
    "---"
   ]
  },
  {
   "cell_type": "markdown",
   "metadata": {},
   "source": [
    "##### **d. Kiểm định tại mức ý nghĩa α = 5% xem biến atmosphere có ảnh hưởng có ý nghĩa đến biến valueformoney không?**\n",
    "\n",
    "#### **$H_0: \\beta_1 = 0$**\n",
    "\n",
    "#### **$H_1: \\beta_1 \\ne 0$**\n",
    "\n",
    "Cách 1:\n",
    "\n",
    "p-giá trị là: P > |t| < 0.001 (vì kết quả cho đến 3 chữ số đằng sau dấu phẩy là 0 nên nhỏ hơn 0.001). Từ đó suy ra, p-giá trị < 0.05 nên bác bỏ H0 hay mô hình hồi quy có ý nghĩa. Tức là biến atmosphere ảnh hưởng có ý nghĩa đến biến valueformoney\n",
    "\n",
    "Cách 2:\n",
    "\n",
    "p-giá trị < 0.001 < 0.05. Từ đó suy ra bác bỏ H0. Tức là biến atmosphere có ảnh hưởng có ý nghĩa đến biến valueformoney\n",
    "\n",
    "---"
   ]
  },
  {
   "cell_type": "markdown",
   "metadata": {},
   "source": [
    "##### **e. Tìm khoảng tin cậy 90% cho hệ số góc của mô hình trong câu (a)**\n",
    "\n",
    "---"
   ]
  },
  {
   "cell_type": "code",
   "execution_count": 24,
   "metadata": {},
   "outputs": [
    {
     "data": {
      "text/html": [
       "<div>\n",
       "<style scoped>\n",
       "    .dataframe tbody tr th:only-of-type {\n",
       "        vertical-align: middle;\n",
       "    }\n",
       "\n",
       "    .dataframe tbody tr th {\n",
       "        vertical-align: top;\n",
       "    }\n",
       "\n",
       "    .dataframe thead th {\n",
       "        text-align: right;\n",
       "    }\n",
       "</style>\n",
       "<table border=\"1\" class=\"dataframe\">\n",
       "  <thead>\n",
       "    <tr style=\"text-align: right;\">\n",
       "      <th></th>\n",
       "      <th>0</th>\n",
       "      <th>1</th>\n",
       "    </tr>\n",
       "  </thead>\n",
       "  <tbody>\n",
       "    <tr>\n",
       "      <th>const</th>\n",
       "      <td>3.455119</td>\n",
       "      <td>4.302893</td>\n",
       "    </tr>\n",
       "    <tr>\n",
       "      <th>atmosphere</th>\n",
       "      <td>0.549122</td>\n",
       "      <td>0.649795</td>\n",
       "    </tr>\n",
       "  </tbody>\n",
       "</table>\n",
       "</div>"
      ],
      "text/plain": [
       "                   0         1\n",
       "const       3.455119  4.302893\n",
       "atmosphere  0.549122  0.649795"
      ]
     },
     "execution_count": 24,
     "metadata": {},
     "output_type": "execute_result"
    }
   ],
   "source": [
    "model.conf_int(0.1)\n",
    "# Khoảng tin cậy 90% cho hệ góc là [0.549122, 0.649795]"
   ]
  },
  {
   "cell_type": "markdown",
   "metadata": {},
   "source": [
    "##### **f. Một nhà nghỉ có điểm đánh giá môi trường X = 9.1. Đưa ra giá trị dự báo cho điểm đánh giá số tiền bỏ ra xứng đáng valueformoney (Y) của nhà nghỉ này**\n",
    "\n",
    "---"
   ]
  },
  {
   "cell_type": "code",
   "execution_count": 12,
   "metadata": {},
   "outputs": [
    {
     "data": {
      "text/plain": [
       "array([9.33407714])"
      ]
     },
     "execution_count": 12,
     "metadata": {},
     "output_type": "execute_result"
    }
   ],
   "source": [
    "model.predict([1, 9.1])"
   ]
  },
  {
   "cell_type": "markdown",
   "metadata": {},
   "source": [
    "*Khi điểm đánh giá atmosphere là 9.1 thì điểm đanh giá valueformoney là 9.33*\n",
    "\n",
    "---"
   ]
  },
  {
   "cell_type": "markdown",
   "metadata": {},
   "source": [
    "##### **g. Tính hệ số xác định và nêu ý nghĩa**\n",
    "\n",
    "---"
   ]
  },
  {
   "cell_type": "markdown",
   "metadata": {},
   "source": [
    "**- Hệ số xác định của mô hình là $R^2 = R-squared = 0.566$**\n",
    "\n",
    "*Mô hình phù hợp ở mức bình thường so với tập số liệu*\n",
    "\n",
    "*56.6% sự biến động của điểm đánh giá valueformoney được giải thích qua điểm đánh giá atmosphere từ mô hình*\n",
    "\n",
    "---"
   ]
  },
  {
   "cell_type": "code",
   "execution_count": 20,
   "metadata": {},
   "outputs": [
    {
     "name": "stdout",
     "output_type": "stream",
     "text": [
      "8.325503355704697\n",
      "8.86979865771812\n",
      "1.6048692743994757\n",
      "1.0188154475402798\n",
      "[[1.60486927 0.96205229]\n",
      " [0.96205229 1.01881545]]\n"
     ]
    }
   ],
   "source": [
    "mu1 = table.atmosphere.mean()\n",
    "mu2 = table.valueformoney.mean()\n",
    "var1 = table.atmosphere.var()\n",
    "var2 = table.valueformoney.var()\n",
    "cov = np.cov(table.atmosphere, table.valueformoney)\n",
    "\n",
    "print(mu1)\n",
    "print(mu2)\n",
    "print(var1)\n",
    "print(var2)\n",
    "print(cov)"
   ]
  }
 ],
 "metadata": {
  "kernelspec": {
   "display_name": "Python 3",
   "language": "python",
   "name": "python3"
  },
  "language_info": {
   "codemirror_mode": {
    "name": "ipython",
    "version": 3
   },
   "file_extension": ".py",
   "mimetype": "text/x-python",
   "name": "python",
   "nbconvert_exporter": "python",
   "pygments_lexer": "ipython3",
   "version": "3.12.4"
  }
 },
 "nbformat": 4,
 "nbformat_minor": 2
}
